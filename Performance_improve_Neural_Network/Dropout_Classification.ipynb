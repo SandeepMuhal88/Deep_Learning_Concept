{
 "cells": [
  {
   "cell_type": "code",
   "execution_count": 1,
   "id": "161337ee",
   "metadata": {},
   "outputs": [],
   "source": [
    "import numpy as np\n",
    "import pandas as pd\n",
    "import matplotlib.pyplot as plt\n",
    "import seaborn as sns\n",
    "import warnings\n",
    "warnings.filterwarnings('ignore')\n"
   ]
  },
  {
   "cell_type": "code",
   "execution_count": 2,
   "id": "e2922403",
   "metadata": {},
   "outputs": [],
   "source": [
    "import tensorflow as tf\n",
    "import keras\n",
    "from keras.layers import Dense\n",
    "from keras.models import Sequential\n",
    "from keras.layers import Dropout\n",
    "from keras.optimizers import Adam\n",
    "from sklearn.model_selection import train_test_split\n",
    "from sklearn.metrics import mean_squared_error\n",
    "from sklearn.preprocessing import StandardScaler\n"
   ]
  },
  {
   "cell_type": "code",
   "execution_count": 3,
   "id": "9bb68ce8",
   "metadata": {},
   "outputs": [],
   "source": [
    "X_train=np.linspace(-1,1,20)"
   ]
  },
  {
   "cell_type": "code",
   "execution_count": 4,
   "id": "3980e8b0",
   "metadata": {},
   "outputs": [],
   "source": [
    "y_train = np.array([-0.6561 , -0.3099 , -0.59035, -0.50855, -0.285  ,\n",
    "                    -0.2443 , -0.02445,  0.00135, -0.2006 ,  0.07475,\n",
    "                    -0.1422 ,  0.06515,  0.15265,  0.3521 ,  0.28415,\n",
    "                    0.5524 ,  0.23115,  0.20835, 0.4211,  0.60485])"
   ]
  }
 ],
 "metadata": {
  "kernelspec": {
   "display_name": ".deeplr",
   "language": "python",
   "name": "python3"
  },
  "language_info": {
   "codemirror_mode": {
    "name": "ipython",
    "version": 3
   },
   "file_extension": ".py",
   "mimetype": "text/x-python",
   "name": "python",
   "nbconvert_exporter": "python",
   "pygments_lexer": "ipython3",
   "version": "3.12.5"
  }
 },
 "nbformat": 4,
 "nbformat_minor": 5
}

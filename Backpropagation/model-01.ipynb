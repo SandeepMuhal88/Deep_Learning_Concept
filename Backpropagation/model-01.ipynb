{
 "cells": [
  {
   "cell_type": "markdown",
   "id": "d157a648",
   "metadata": {},
   "source": [
    "### First Intution"
   ]
  },
  {
   "cell_type": "code",
   "execution_count": null,
   "id": "6fa48d4b",
   "metadata": {},
   "outputs": [
    {
     "ename": "UFuncTypeError",
     "evalue": "Cannot cast ufunc 'subtract' output from dtype('float64') to dtype('int32') with casting rule 'same_kind'",
     "output_type": "error",
     "traceback": [
      "\u001b[31m---------------------------------------------------------------------------\u001b[39m",
      "\u001b[31mUFuncTypeError\u001b[39m                            Traceback (most recent call last)",
      "\u001b[36mCell\u001b[39m\u001b[36m \u001b[39m\u001b[32mIn[1]\u001b[39m\u001b[32m, line 40\u001b[39m\n\u001b[32m     38\u001b[39m gradient_output = error\n\u001b[32m     39\u001b[39m weights_2 -= learning_rate * hidden_layer_output.T.dot(gradient_output)\n\u001b[32m---> \u001b[39m\u001b[32m40\u001b[39m \u001b[43mbias_2\u001b[49m\u001b[43m \u001b[49m\u001b[43m-\u001b[49m\u001b[43m=\u001b[49m\u001b[43m \u001b[49m\u001b[43mlearning_rate\u001b[49m\u001b[43m \u001b[49m\u001b[43m*\u001b[49m\u001b[43m \u001b[49m\u001b[43mgradient_output\u001b[49m\n\u001b[32m     42\u001b[39m \u001b[38;5;66;03m# Gradient for Hidden Layer\u001b[39;00m\n\u001b[32m     43\u001b[39m hidden_error = gradient_output.dot(weights_2.T)\n",
      "\u001b[31mUFuncTypeError\u001b[39m: Cannot cast ufunc 'subtract' output from dtype('float64') to dtype('int32') with casting rule 'same_kind'"
     ]
    }
   ],
   "source": [
    "import numpy as np\n",
    "\n",
    "# Sigmoid Activation Function\n",
    "def sigmoid(x):\n",
    "    return 1 / (1 + np.exp(-x))\n",
    "\n",
    "# Derivative of Sigmoid\n",
    "def sigmoid_derivative(x):\n",
    "    return x * (1 - x)\n",
    "\n",
    "# Training Data\n",
    "inputs = np.array([[1000]])  # Square footage\n",
    "actual_output = np.array([[0.9]])  # Normalized actual price\n",
    "\n",
    "# Initialize Weights and Biases\n",
    "weights_1 = np.array([[0.1, 0.2]])  # Weights for Hidden Layer (2 neurons)\n",
    "weights_2 = np.array([[0.3], [0.4]])  # Weights for Output Layer\n",
    "bias_1 = np.array([[0.1, 0.2]])  # Biases for Hidden Layer\n",
    "bias_2 = np.array([[0]])  # Bias for Output Layer\n",
    "learning_rate = 0.01\n",
    "\n",
    "# Training the Networ\n",
    "y\n",
    "for epoch in range(1000):\n",
    "    # Forward Propagation\n",
    "    hidden_layer_input = np.dot(inputs, weights_1) + bias_1\n",
    "    hidden_layer_output = sigmoid(hidden_layer_input)\n",
    "\n",
    "    final_input = np.dot(hidden_layer_output, weights_2) + bias_2\n",
    "    predicted_output = final_input  # Linear activation for regression\n",
    "\n",
    "    # Calculate Loss (MSE)\n",
    "    loss = np.mean(0.5 * (actual_output - predicted_output) ** 2)\n",
    "\n",
    "    # Backpropagation\n",
    "    error = predicted_output - actual_output\n",
    "\n",
    "    # Gradient for Output Layer\n",
    "    gradient_output = error\n",
    "    weights_2 -= learning_rate * hidden_layer_output.T.dot(gradient_output)\n",
    "    bias_2 -= learning_rate * gradient_output\n",
    "\n",
    "    # Gradient for Hidden Layer\n",
    "    hidden_error = gradient_output.dot(weights_2.T)\n",
    "    hidden_gradient = hidden_error * sigmoid_derivative(hidden_layer_output)\n",
    "\n",
    "    weights_1 -= learning_rate * inputs.T.dot(hidden_gradient)\n",
    "    bias_1 -= learning_rate * hidden_gradient\n",
    "\n",
    "    if epoch % 100 == 0:\n",
    "        print(f\"Epoch {epoch}, Loss: {loss:.6f}\")\n",
    "\n",
    "# Final Result\n",
    "print(\"\\nFinal Weights and Biases after Training:\")\n",
    "print(\"Weights_1:\", weights_1)\n",
    "print(\"Weights_2:\", weights_2)\n",
    "print(\"Bias_1:\", bias_1)\n",
    "print(\"Bias_2:\", bias_2)\n",
    "\n",
    "# Prediction after training\n",
    "hidden_layer_output = sigmoid(np.dot(inputs, weights_1) + bias_1)\n",
    "final_output = np.dot(hidden_layer_output, weights_2) + bias_2\n",
    "\n",
    "print(f\"\\nPrediction for 1000 sqft house after training: {final_output[0][0]:.4f}\")\n"
   ]
  }
 ],
 "metadata": {
  "kernelspec": {
   "display_name": ".deeplr",
   "language": "python",
   "name": "python3"
  },
  "language_info": {
   "codemirror_mode": {
    "name": "ipython",
    "version": 3
   },
   "file_extension": ".py",
   "mimetype": "text/x-python",
   "name": "python",
   "nbconvert_exporter": "python",
   "pygments_lexer": "ipython3",
   "version": "3.12.5"
  }
 },
 "nbformat": 4,
 "nbformat_minor": 5
}

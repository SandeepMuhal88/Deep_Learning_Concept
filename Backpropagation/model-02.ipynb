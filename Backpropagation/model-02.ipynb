{
 "cells": [
  {
   "cell_type": "code",
   "execution_count": 2,
   "id": "34a20970",
   "metadata": {},
   "outputs": [],
   "source": [
    "import numpy as np\n",
    "import matplotlib.pyplot as plt\n",
    "import pandas as pd\n",
    "import seaborn as sns"
   ]
  },
  {
   "cell_type": "code",
   "execution_count": 24,
   "id": "ad93a177",
   "metadata": {},
   "outputs": [],
   "source": [
    "df=pd.DataFrame([[8,8,4],[7,9,5],[6,10,6],[5,12,7]],columns=['cgpa','profile_score','placement'])"
   ]
  },
  {
   "cell_type": "code",
   "execution_count": 25,
   "id": "4af50f6d",
   "metadata": {},
   "outputs": [
    {
     "data": {
      "text/html": [
       "<div>\n",
       "<style scoped>\n",
       "    .dataframe tbody tr th:only-of-type {\n",
       "        vertical-align: middle;\n",
       "    }\n",
       "\n",
       "    .dataframe tbody tr th {\n",
       "        vertical-align: top;\n",
       "    }\n",
       "\n",
       "    .dataframe thead th {\n",
       "        text-align: right;\n",
       "    }\n",
       "</style>\n",
       "<table border=\"1\" class=\"dataframe\">\n",
       "  <thead>\n",
       "    <tr style=\"text-align: right;\">\n",
       "      <th></th>\n",
       "      <th>cgpa</th>\n",
       "      <th>profile_score</th>\n",
       "      <th>placement</th>\n",
       "    </tr>\n",
       "  </thead>\n",
       "  <tbody>\n",
       "    <tr>\n",
       "      <th>0</th>\n",
       "      <td>8</td>\n",
       "      <td>8</td>\n",
       "      <td>4</td>\n",
       "    </tr>\n",
       "    <tr>\n",
       "      <th>1</th>\n",
       "      <td>7</td>\n",
       "      <td>9</td>\n",
       "      <td>5</td>\n",
       "    </tr>\n",
       "    <tr>\n",
       "      <th>2</th>\n",
       "      <td>6</td>\n",
       "      <td>10</td>\n",
       "      <td>6</td>\n",
       "    </tr>\n",
       "    <tr>\n",
       "      <th>3</th>\n",
       "      <td>5</td>\n",
       "      <td>12</td>\n",
       "      <td>7</td>\n",
       "    </tr>\n",
       "  </tbody>\n",
       "</table>\n",
       "</div>"
      ],
      "text/plain": [
       "   cgpa  profile_score  placement\n",
       "0     8              8          4\n",
       "1     7              9          5\n",
       "2     6             10          6\n",
       "3     5             12          7"
      ]
     },
     "execution_count": 25,
     "metadata": {},
     "output_type": "execute_result"
    }
   ],
   "source": [
    "df.head()"
   ]
  },
  {
   "cell_type": "code",
   "execution_count": 46,
   "id": "021f0670",
   "metadata": {},
   "outputs": [],
   "source": [
    "def initialize_centroids(layer_dim):\n",
    "    np.random.seed(3)\n",
    "    parameters = {}\n",
    "    L=len(layer_dim)\n",
    "    for l in range(1,L):\n",
    "        parameters['W'+str(l)]=np.ones((layer_dim[l],layer_dim[l-1]))*0.01\n",
    "        parameters['b'+str(l)]=np.zeros((layer_dim[l],1))\n",
    "    \n",
    "    return parameters"
   ]
  },
  {
   "cell_type": "code",
   "execution_count": 47,
   "id": "df9d8fe8",
   "metadata": {},
   "outputs": [
    {
     "data": {
      "text/plain": [
       "{'W1': array([[0.01, 0.01],\n",
       "        [0.01, 0.01]]),\n",
       " 'b1': array([[0.],\n",
       "        [0.]]),\n",
       " 'W2': array([[0.01, 0.01]]),\n",
       " 'b2': array([[0.]])}"
      ]
     },
     "execution_count": 47,
     "metadata": {},
     "output_type": "execute_result"
    }
   ],
   "source": [
    "initialize_centroids([2,2,1])"
   ]
  },
  {
   "cell_type": "code",
   "execution_count": 49,
   "id": "a6a10433",
   "metadata": {},
   "outputs": [],
   "source": [
    "def linear_forward(A,W,b):\n",
    "    Z=np.dot(W.T,A)+b\n",
    "    return Z"
   ]
  },
  {
   "cell_type": "code",
   "execution_count": 57,
   "id": "3cbf1e0b",
   "metadata": {},
   "outputs": [],
   "source": [
    "def L_layer_forward(X,parameters):\n",
    "    A=X\n",
    "    L=len(parameters)//2\n",
    "    for l in range(1,L+1):\n",
    "        A_prev=A\n",
    "        W1=parameters['W'+str(l)]\n",
    "        b1=parameters['b'+str(l)]\n",
    "        Z=linear_forward(A_prev,W1,b1)\n",
    "    return Z,A_prev"
   ]
  },
  {
   "cell_type": "code",
   "execution_count": 58,
   "id": "e07098ee",
   "metadata": {},
   "outputs": [
    {
     "ename": "ValueError",
     "evalue": "shapes (2,1) and (2,1) not aligned: 1 (dim 1) != 2 (dim 0)",
     "output_type": "error",
     "traceback": [
      "\u001b[31m---------------------------------------------------------------------------\u001b[39m",
      "\u001b[31mValueError\u001b[39m                                Traceback (most recent call last)",
      "\u001b[36mCell\u001b[39m\u001b[36m \u001b[39m\u001b[32mIn[58]\u001b[39m\u001b[32m, line 6\u001b[39m\n\u001b[32m      4\u001b[39m \u001b[38;5;66;03m# Paratitioning init\u001b[39;00m\n\u001b[32m      5\u001b[39m paramers=initialize_centroids([\u001b[32m2\u001b[39m,\u001b[32m2\u001b[39m,\u001b[32m1\u001b[39m])\n\u001b[32m----> \u001b[39m\u001b[32m6\u001b[39m y_hat,A1=\u001b[43mL_layer_forward\u001b[49m\u001b[43m(\u001b[49m\u001b[43mX\u001b[49m\u001b[43m,\u001b[49m\u001b[43mparamers\u001b[49m\u001b[43m)\u001b[49m\n",
      "\u001b[36mCell\u001b[39m\u001b[36m \u001b[39m\u001b[32mIn[57]\u001b[39m\u001b[32m, line 8\u001b[39m, in \u001b[36mL_layer_forward\u001b[39m\u001b[34m(X, parameters)\u001b[39m\n\u001b[32m      6\u001b[39m     W1=parameters[\u001b[33m'\u001b[39m\u001b[33mW\u001b[39m\u001b[33m'\u001b[39m+\u001b[38;5;28mstr\u001b[39m(l)]\n\u001b[32m      7\u001b[39m     b1=parameters[\u001b[33m'\u001b[39m\u001b[33mb\u001b[39m\u001b[33m'\u001b[39m+\u001b[38;5;28mstr\u001b[39m(l)]\n\u001b[32m----> \u001b[39m\u001b[32m8\u001b[39m     Z=\u001b[43mlinear_forward\u001b[49m\u001b[43m(\u001b[49m\u001b[43mA_prev\u001b[49m\u001b[43m,\u001b[49m\u001b[43mW1\u001b[49m\u001b[43m,\u001b[49m\u001b[43mb1\u001b[49m\u001b[43m)\u001b[49m\n\u001b[32m      9\u001b[39m \u001b[38;5;28;01mreturn\u001b[39;00m Z,A_prev\n",
      "\u001b[36mCell\u001b[39m\u001b[36m \u001b[39m\u001b[32mIn[49]\u001b[39m\u001b[32m, line 2\u001b[39m, in \u001b[36mlinear_forward\u001b[39m\u001b[34m(A, W, b)\u001b[39m\n\u001b[32m      1\u001b[39m \u001b[38;5;28;01mdef\u001b[39;00m\u001b[38;5;250m \u001b[39m\u001b[34mlinear_forward\u001b[39m(A,W,b):\n\u001b[32m----> \u001b[39m\u001b[32m2\u001b[39m     Z=\u001b[43mnp\u001b[49m\u001b[43m.\u001b[49m\u001b[43mdot\u001b[49m\u001b[43m(\u001b[49m\u001b[43mW\u001b[49m\u001b[43m.\u001b[49m\u001b[43mT\u001b[49m\u001b[43m,\u001b[49m\u001b[43mA\u001b[49m\u001b[43m)\u001b[49m+b\n\u001b[32m      3\u001b[39m     \u001b[38;5;28;01mreturn\u001b[39;00m Z\n",
      "\u001b[31mValueError\u001b[39m: shapes (2,1) and (2,1) not aligned: 1 (dim 1) != 2 (dim 0)"
     ]
    }
   ],
   "source": [
    "X=df[['cgpa','profile_score']].values[0].reshape(2,1)\n",
    "Y=df[['placement']].values[0][0]\n",
    "\n",
    "# Paratitioning init\n",
    "paramers=initialize_centroids([2,2,1])\n",
    "y_hat,A1=L_layer_forward(X,paramers)"
   ]
  }
 ],
 "metadata": {
  "kernelspec": {
   "display_name": ".deeplr",
   "language": "python",
   "name": "python3"
  },
  "language_info": {
   "codemirror_mode": {
    "name": "ipython",
    "version": 3
   },
   "file_extension": ".py",
   "mimetype": "text/x-python",
   "name": "python",
   "nbconvert_exporter": "python",
   "pygments_lexer": "ipython3",
   "version": "3.12.5"
  }
 },
 "nbformat": 4,
 "nbformat_minor": 5
}

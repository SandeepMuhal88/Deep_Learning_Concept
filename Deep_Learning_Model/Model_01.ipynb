{
 "cells": [
  {
   "cell_type": "markdown",
   "id": "0d074b95",
   "metadata": {},
   "source": [
    "### Credit -card-customer-Chrun-Prediction Model"
   ]
  },
  {
   "cell_type": "code",
   "execution_count": 1,
   "id": "89da6854",
   "metadata": {},
   "outputs": [
    {
     "name": "stderr",
     "output_type": "stream",
     "text": [
      "d:\\Programming\\Deep_Learning\\.deeplr\\Lib\\site-packages\\tqdm\\auto.py:21: TqdmWarning: IProgress not found. Please update jupyter and ipywidgets. See https://ipywidgets.readthedocs.io/en/stable/user_install.html\n",
      "  from .autonotebook import tqdm as notebook_tqdm\n"
     ]
    }
   ],
   "source": [
    "import pandas as pd\n",
    "import numpy as np\n",
    "import kagglehub"
   ]
  },
  {
   "cell_type": "code",
   "execution_count": 2,
   "id": "1198a183",
   "metadata": {},
   "outputs": [
    {
     "name": "stdout",
     "output_type": "stream",
     "text": [
      "Warning: Looks like you're using an outdated `kagglehub` version (installed: 0.3.11), please consider upgrading to the latest version (0.3.12).\n",
      "Path to dataset files: C:\\Users\\sande\\.cache\\kagglehub\\datasets\\rjmanoj\\credit-card-customer-churn-prediction\\versions\\1\n"
     ]
    }
   ],
   "source": [
    "import kagglehub\n",
    "\n",
    "# Download latest version\n",
    "path = kagglehub.dataset_download(\"rjmanoj/credit-card-customer-churn-prediction\")\n",
    "\n",
    "print(\"Path to dataset files:\", path)"
   ]
  },
  {
   "cell_type": "code",
   "execution_count": 3,
   "id": "e9c8610c",
   "metadata": {},
   "outputs": [],
   "source": [
    "import os\n",
    "\n",
    "# Read the dataset\n",
    "df = pd.read_csv(os.path.join(path, \"Churn_Modelling.csv\"))"
   ]
  },
  {
   "cell_type": "code",
   "execution_count": 4,
   "id": "3baf3a1e",
   "metadata": {},
   "outputs": [
    {
     "data": {
      "text/html": [
       "<div>\n",
       "<style scoped>\n",
       "    .dataframe tbody tr th:only-of-type {\n",
       "        vertical-align: middle;\n",
       "    }\n",
       "\n",
       "    .dataframe tbody tr th {\n",
       "        vertical-align: top;\n",
       "    }\n",
       "\n",
       "    .dataframe thead th {\n",
       "        text-align: right;\n",
       "    }\n",
       "</style>\n",
       "<table border=\"1\" class=\"dataframe\">\n",
       "  <thead>\n",
       "    <tr style=\"text-align: right;\">\n",
       "      <th></th>\n",
       "      <th>RowNumber</th>\n",
       "      <th>CustomerId</th>\n",
       "      <th>Surname</th>\n",
       "      <th>CreditScore</th>\n",
       "      <th>Geography</th>\n",
       "      <th>Gender</th>\n",
       "      <th>Age</th>\n",
       "      <th>Tenure</th>\n",
       "      <th>Balance</th>\n",
       "      <th>NumOfProducts</th>\n",
       "      <th>HasCrCard</th>\n",
       "      <th>IsActiveMember</th>\n",
       "      <th>EstimatedSalary</th>\n",
       "      <th>Exited</th>\n",
       "    </tr>\n",
       "  </thead>\n",
       "  <tbody>\n",
       "    <tr>\n",
       "      <th>0</th>\n",
       "      <td>1</td>\n",
       "      <td>15634602</td>\n",
       "      <td>Hargrave</td>\n",
       "      <td>619</td>\n",
       "      <td>France</td>\n",
       "      <td>Female</td>\n",
       "      <td>42</td>\n",
       "      <td>2</td>\n",
       "      <td>0.00</td>\n",
       "      <td>1</td>\n",
       "      <td>1</td>\n",
       "      <td>1</td>\n",
       "      <td>101348.88</td>\n",
       "      <td>1</td>\n",
       "    </tr>\n",
       "    <tr>\n",
       "      <th>1</th>\n",
       "      <td>2</td>\n",
       "      <td>15647311</td>\n",
       "      <td>Hill</td>\n",
       "      <td>608</td>\n",
       "      <td>Spain</td>\n",
       "      <td>Female</td>\n",
       "      <td>41</td>\n",
       "      <td>1</td>\n",
       "      <td>83807.86</td>\n",
       "      <td>1</td>\n",
       "      <td>0</td>\n",
       "      <td>1</td>\n",
       "      <td>112542.58</td>\n",
       "      <td>0</td>\n",
       "    </tr>\n",
       "    <tr>\n",
       "      <th>2</th>\n",
       "      <td>3</td>\n",
       "      <td>15619304</td>\n",
       "      <td>Onio</td>\n",
       "      <td>502</td>\n",
       "      <td>France</td>\n",
       "      <td>Female</td>\n",
       "      <td>42</td>\n",
       "      <td>8</td>\n",
       "      <td>159660.80</td>\n",
       "      <td>3</td>\n",
       "      <td>1</td>\n",
       "      <td>0</td>\n",
       "      <td>113931.57</td>\n",
       "      <td>1</td>\n",
       "    </tr>\n",
       "    <tr>\n",
       "      <th>3</th>\n",
       "      <td>4</td>\n",
       "      <td>15701354</td>\n",
       "      <td>Boni</td>\n",
       "      <td>699</td>\n",
       "      <td>France</td>\n",
       "      <td>Female</td>\n",
       "      <td>39</td>\n",
       "      <td>1</td>\n",
       "      <td>0.00</td>\n",
       "      <td>2</td>\n",
       "      <td>0</td>\n",
       "      <td>0</td>\n",
       "      <td>93826.63</td>\n",
       "      <td>0</td>\n",
       "    </tr>\n",
       "    <tr>\n",
       "      <th>4</th>\n",
       "      <td>5</td>\n",
       "      <td>15737888</td>\n",
       "      <td>Mitchell</td>\n",
       "      <td>850</td>\n",
       "      <td>Spain</td>\n",
       "      <td>Female</td>\n",
       "      <td>43</td>\n",
       "      <td>2</td>\n",
       "      <td>125510.82</td>\n",
       "      <td>1</td>\n",
       "      <td>1</td>\n",
       "      <td>1</td>\n",
       "      <td>79084.10</td>\n",
       "      <td>0</td>\n",
       "    </tr>\n",
       "  </tbody>\n",
       "</table>\n",
       "</div>"
      ],
      "text/plain": [
       "   RowNumber  CustomerId   Surname  CreditScore Geography  Gender  Age  \\\n",
       "0          1    15634602  Hargrave          619    France  Female   42   \n",
       "1          2    15647311      Hill          608     Spain  Female   41   \n",
       "2          3    15619304      Onio          502    France  Female   42   \n",
       "3          4    15701354      Boni          699    France  Female   39   \n",
       "4          5    15737888  Mitchell          850     Spain  Female   43   \n",
       "\n",
       "   Tenure    Balance  NumOfProducts  HasCrCard  IsActiveMember  \\\n",
       "0       2       0.00              1          1               1   \n",
       "1       1   83807.86              1          0               1   \n",
       "2       8  159660.80              3          1               0   \n",
       "3       1       0.00              2          0               0   \n",
       "4       2  125510.82              1          1               1   \n",
       "\n",
       "   EstimatedSalary  Exited  \n",
       "0        101348.88       1  \n",
       "1        112542.58       0  \n",
       "2        113931.57       1  \n",
       "3         93826.63       0  \n",
       "4         79084.10       0  "
      ]
     },
     "execution_count": 4,
     "metadata": {},
     "output_type": "execute_result"
    }
   ],
   "source": [
    "df.head()\n"
   ]
  },
  {
   "cell_type": "code",
   "execution_count": 5,
   "id": "e528c30e",
   "metadata": {},
   "outputs": [
    {
     "name": "stdout",
     "output_type": "stream",
     "text": [
      "<class 'pandas.core.frame.DataFrame'>\n",
      "RangeIndex: 10000 entries, 0 to 9999\n",
      "Data columns (total 14 columns):\n",
      " #   Column           Non-Null Count  Dtype  \n",
      "---  ------           --------------  -----  \n",
      " 0   RowNumber        10000 non-null  int64  \n",
      " 1   CustomerId       10000 non-null  int64  \n",
      " 2   Surname          10000 non-null  object \n",
      " 3   CreditScore      10000 non-null  int64  \n",
      " 4   Geography        10000 non-null  object \n",
      " 5   Gender           10000 non-null  object \n",
      " 6   Age              10000 non-null  int64  \n",
      " 7   Tenure           10000 non-null  int64  \n",
      " 8   Balance          10000 non-null  float64\n",
      " 9   NumOfProducts    10000 non-null  int64  \n",
      " 10  HasCrCard        10000 non-null  int64  \n",
      " 11  IsActiveMember   10000 non-null  int64  \n",
      " 12  EstimatedSalary  10000 non-null  float64\n",
      " 13  Exited           10000 non-null  int64  \n",
      "dtypes: float64(2), int64(9), object(3)\n",
      "memory usage: 1.1+ MB\n"
     ]
    }
   ],
   "source": [
    "df.info()"
   ]
  },
  {
   "cell_type": "code",
   "execution_count": 6,
   "id": "466a3ea6",
   "metadata": {},
   "outputs": [
    {
     "data": {
      "text/plain": [
       "0"
      ]
     },
     "execution_count": 6,
     "metadata": {},
     "output_type": "execute_result"
    }
   ],
   "source": [
    "df.duplicated().sum()  "
   ]
  },
  {
   "cell_type": "code",
   "execution_count": 7,
   "id": "234d1574",
   "metadata": {},
   "outputs": [
    {
     "data": {
      "text/plain": [
       "RowNumber          0\n",
       "CustomerId         0\n",
       "Surname            0\n",
       "CreditScore        0\n",
       "Geography          0\n",
       "Gender             0\n",
       "Age                0\n",
       "Tenure             0\n",
       "Balance            0\n",
       "NumOfProducts      0\n",
       "HasCrCard          0\n",
       "IsActiveMember     0\n",
       "EstimatedSalary    0\n",
       "Exited             0\n",
       "dtype: int64"
      ]
     },
     "execution_count": 7,
     "metadata": {},
     "output_type": "execute_result"
    }
   ],
   "source": [
    "df.isnull().sum()  # Check for missing values"
   ]
  },
  {
   "cell_type": "code",
   "execution_count": 8,
   "id": "9b4202e5",
   "metadata": {},
   "outputs": [
    {
     "data": {
      "text/plain": [
       "Geography\n",
       "France     5014\n",
       "Germany    2509\n",
       "Spain      2477\n",
       "Name: count, dtype: int64"
      ]
     },
     "execution_count": 8,
     "metadata": {},
     "output_type": "execute_result"
    }
   ],
   "source": [
    "df['Geography'].value_counts()"
   ]
  },
  {
   "cell_type": "code",
   "execution_count": 9,
   "id": "e554045b",
   "metadata": {},
   "outputs": [
    {
     "data": {
      "text/plain": [
       "Gender\n",
       "Male      5457\n",
       "Female    4543\n",
       "Name: count, dtype: int64"
      ]
     },
     "execution_count": 9,
     "metadata": {},
     "output_type": "execute_result"
    }
   ],
   "source": [
    "df['Gender'].value_counts()"
   ]
  },
  {
   "cell_type": "code",
   "execution_count": 10,
   "id": "6427bd68",
   "metadata": {},
   "outputs": [
    {
     "data": {
      "text/plain": [
       "Exited\n",
       "0    7963\n",
       "1    2037\n",
       "Name: count, dtype: int64"
      ]
     },
     "execution_count": 10,
     "metadata": {},
     "output_type": "execute_result"
    }
   ],
   "source": [
    "df['Exited'].value_counts()"
   ]
  },
  {
   "cell_type": "code",
   "execution_count": 11,
   "id": "ffedbe71",
   "metadata": {},
   "outputs": [
    {
     "data": {
      "text/html": [
       "<div>\n",
       "<style scoped>\n",
       "    .dataframe tbody tr th:only-of-type {\n",
       "        vertical-align: middle;\n",
       "    }\n",
       "\n",
       "    .dataframe tbody tr th {\n",
       "        vertical-align: top;\n",
       "    }\n",
       "\n",
       "    .dataframe thead th {\n",
       "        text-align: right;\n",
       "    }\n",
       "</style>\n",
       "<table border=\"1\" class=\"dataframe\">\n",
       "  <thead>\n",
       "    <tr style=\"text-align: right;\">\n",
       "      <th></th>\n",
       "      <th>CreditScore</th>\n",
       "      <th>Geography</th>\n",
       "      <th>Gender</th>\n",
       "      <th>Age</th>\n",
       "      <th>Tenure</th>\n",
       "      <th>Balance</th>\n",
       "      <th>NumOfProducts</th>\n",
       "      <th>HasCrCard</th>\n",
       "      <th>IsActiveMember</th>\n",
       "      <th>EstimatedSalary</th>\n",
       "      <th>Exited</th>\n",
       "    </tr>\n",
       "  </thead>\n",
       "  <tbody>\n",
       "    <tr>\n",
       "      <th>0</th>\n",
       "      <td>619</td>\n",
       "      <td>France</td>\n",
       "      <td>Female</td>\n",
       "      <td>42</td>\n",
       "      <td>2</td>\n",
       "      <td>0.00</td>\n",
       "      <td>1</td>\n",
       "      <td>1</td>\n",
       "      <td>1</td>\n",
       "      <td>101348.88</td>\n",
       "      <td>1</td>\n",
       "    </tr>\n",
       "    <tr>\n",
       "      <th>1</th>\n",
       "      <td>608</td>\n",
       "      <td>Spain</td>\n",
       "      <td>Female</td>\n",
       "      <td>41</td>\n",
       "      <td>1</td>\n",
       "      <td>83807.86</td>\n",
       "      <td>1</td>\n",
       "      <td>0</td>\n",
       "      <td>1</td>\n",
       "      <td>112542.58</td>\n",
       "      <td>0</td>\n",
       "    </tr>\n",
       "    <tr>\n",
       "      <th>2</th>\n",
       "      <td>502</td>\n",
       "      <td>France</td>\n",
       "      <td>Female</td>\n",
       "      <td>42</td>\n",
       "      <td>8</td>\n",
       "      <td>159660.80</td>\n",
       "      <td>3</td>\n",
       "      <td>1</td>\n",
       "      <td>0</td>\n",
       "      <td>113931.57</td>\n",
       "      <td>1</td>\n",
       "    </tr>\n",
       "    <tr>\n",
       "      <th>3</th>\n",
       "      <td>699</td>\n",
       "      <td>France</td>\n",
       "      <td>Female</td>\n",
       "      <td>39</td>\n",
       "      <td>1</td>\n",
       "      <td>0.00</td>\n",
       "      <td>2</td>\n",
       "      <td>0</td>\n",
       "      <td>0</td>\n",
       "      <td>93826.63</td>\n",
       "      <td>0</td>\n",
       "    </tr>\n",
       "    <tr>\n",
       "      <th>4</th>\n",
       "      <td>850</td>\n",
       "      <td>Spain</td>\n",
       "      <td>Female</td>\n",
       "      <td>43</td>\n",
       "      <td>2</td>\n",
       "      <td>125510.82</td>\n",
       "      <td>1</td>\n",
       "      <td>1</td>\n",
       "      <td>1</td>\n",
       "      <td>79084.10</td>\n",
       "      <td>0</td>\n",
       "    </tr>\n",
       "  </tbody>\n",
       "</table>\n",
       "</div>"
      ],
      "text/plain": [
       "   CreditScore Geography  Gender  Age  Tenure    Balance  NumOfProducts  \\\n",
       "0          619    France  Female   42       2       0.00              1   \n",
       "1          608     Spain  Female   41       1   83807.86              1   \n",
       "2          502    France  Female   42       8  159660.80              3   \n",
       "3          699    France  Female   39       1       0.00              2   \n",
       "4          850     Spain  Female   43       2  125510.82              1   \n",
       "\n",
       "   HasCrCard  IsActiveMember  EstimatedSalary  Exited  \n",
       "0          1               1        101348.88       1  \n",
       "1          0               1        112542.58       0  \n",
       "2          1               0        113931.57       1  \n",
       "3          0               0         93826.63       0  \n",
       "4          1               1         79084.10       0  "
      ]
     },
     "execution_count": 11,
     "metadata": {},
     "output_type": "execute_result"
    }
   ],
   "source": [
    "df.drop(columns=['RowNumber', 'CustomerId', 'Surname'], inplace=True)\n",
    "df.head()"
   ]
  },
  {
   "cell_type": "code",
   "execution_count": 12,
   "id": "42ea2cde",
   "metadata": {},
   "outputs": [],
   "source": [
    "df=pd.get_dummies(df,columns=['Geography','Gender'], drop_first=True).astype(np.int8)"
   ]
  },
  {
   "cell_type": "code",
   "execution_count": 13,
   "id": "f80cce48",
   "metadata": {},
   "outputs": [
    {
     "data": {
      "text/html": [
       "<div>\n",
       "<style scoped>\n",
       "    .dataframe tbody tr th:only-of-type {\n",
       "        vertical-align: middle;\n",
       "    }\n",
       "\n",
       "    .dataframe tbody tr th {\n",
       "        vertical-align: top;\n",
       "    }\n",
       "\n",
       "    .dataframe thead th {\n",
       "        text-align: right;\n",
       "    }\n",
       "</style>\n",
       "<table border=\"1\" class=\"dataframe\">\n",
       "  <thead>\n",
       "    <tr style=\"text-align: right;\">\n",
       "      <th></th>\n",
       "      <th>CreditScore</th>\n",
       "      <th>Age</th>\n",
       "      <th>Tenure</th>\n",
       "      <th>Balance</th>\n",
       "      <th>NumOfProducts</th>\n",
       "      <th>HasCrCard</th>\n",
       "      <th>IsActiveMember</th>\n",
       "      <th>EstimatedSalary</th>\n",
       "      <th>Exited</th>\n",
       "      <th>Geography_Germany</th>\n",
       "      <th>Geography_Spain</th>\n",
       "      <th>Gender_Male</th>\n",
       "    </tr>\n",
       "  </thead>\n",
       "  <tbody>\n",
       "    <tr>\n",
       "      <th>0</th>\n",
       "      <td>107</td>\n",
       "      <td>42</td>\n",
       "      <td>2</td>\n",
       "      <td>0</td>\n",
       "      <td>1</td>\n",
       "      <td>1</td>\n",
       "      <td>1</td>\n",
       "      <td>-28</td>\n",
       "      <td>1</td>\n",
       "      <td>0</td>\n",
       "      <td>0</td>\n",
       "      <td>0</td>\n",
       "    </tr>\n",
       "    <tr>\n",
       "      <th>1</th>\n",
       "      <td>96</td>\n",
       "      <td>41</td>\n",
       "      <td>1</td>\n",
       "      <td>95</td>\n",
       "      <td>1</td>\n",
       "      <td>0</td>\n",
       "      <td>1</td>\n",
       "      <td>-98</td>\n",
       "      <td>0</td>\n",
       "      <td>0</td>\n",
       "      <td>1</td>\n",
       "      <td>0</td>\n",
       "    </tr>\n",
       "    <tr>\n",
       "      <th>2</th>\n",
       "      <td>-10</td>\n",
       "      <td>42</td>\n",
       "      <td>8</td>\n",
       "      <td>-84</td>\n",
       "      <td>3</td>\n",
       "      <td>1</td>\n",
       "      <td>0</td>\n",
       "      <td>11</td>\n",
       "      <td>1</td>\n",
       "      <td>0</td>\n",
       "      <td>0</td>\n",
       "      <td>0</td>\n",
       "    </tr>\n",
       "    <tr>\n",
       "      <th>3</th>\n",
       "      <td>-69</td>\n",
       "      <td>39</td>\n",
       "      <td>1</td>\n",
       "      <td>0</td>\n",
       "      <td>2</td>\n",
       "      <td>0</td>\n",
       "      <td>0</td>\n",
       "      <td>-126</td>\n",
       "      <td>0</td>\n",
       "      <td>0</td>\n",
       "      <td>0</td>\n",
       "      <td>0</td>\n",
       "    </tr>\n",
       "    <tr>\n",
       "      <th>4</th>\n",
       "      <td>82</td>\n",
       "      <td>43</td>\n",
       "      <td>2</td>\n",
       "      <td>70</td>\n",
       "      <td>1</td>\n",
       "      <td>1</td>\n",
       "      <td>1</td>\n",
       "      <td>-20</td>\n",
       "      <td>0</td>\n",
       "      <td>0</td>\n",
       "      <td>1</td>\n",
       "      <td>0</td>\n",
       "    </tr>\n",
       "  </tbody>\n",
       "</table>\n",
       "</div>"
      ],
      "text/plain": [
       "   CreditScore  Age  Tenure  Balance  NumOfProducts  HasCrCard  \\\n",
       "0          107   42       2        0              1          1   \n",
       "1           96   41       1       95              1          0   \n",
       "2          -10   42       8      -84              3          1   \n",
       "3          -69   39       1        0              2          0   \n",
       "4           82   43       2       70              1          1   \n",
       "\n",
       "   IsActiveMember  EstimatedSalary  Exited  Geography_Germany  \\\n",
       "0               1              -28       1                  0   \n",
       "1               1              -98       0                  0   \n",
       "2               0               11       1                  0   \n",
       "3               0             -126       0                  0   \n",
       "4               1              -20       0                  0   \n",
       "\n",
       "   Geography_Spain  Gender_Male  \n",
       "0                0            0  \n",
       "1                1            0  \n",
       "2                0            0  \n",
       "3                0            0  \n",
       "4                1            0  "
      ]
     },
     "execution_count": 13,
     "metadata": {},
     "output_type": "execute_result"
    }
   ],
   "source": [
    "df.head()"
   ]
  },
  {
   "cell_type": "code",
   "execution_count": 14,
   "id": "4b7e4ebb",
   "metadata": {},
   "outputs": [],
   "source": [
    "X = df.drop(columns=['Exited'])\n",
    "y= df['Exited']\n",
    "from sklearn.model_selection import train_test_split\n",
    "X_train, X_test, y_train, y_test = train_test_split(X, y, test_size=0.2, random_state=42)"
   ]
  },
  {
   "cell_type": "code",
   "execution_count": 15,
   "id": "2a816476",
   "metadata": {},
   "outputs": [],
   "source": [
    "from sklearn.preprocessing import StandardScaler\n",
    "scaler = StandardScaler()\n",
    "X_train = scaler.fit_transform(X_train)\n",
    "X_test = scaler.transform(X_test)"
   ]
  },
  {
   "cell_type": "code",
   "execution_count": 16,
   "id": "c9debc65",
   "metadata": {},
   "outputs": [
    {
     "data": {
      "text/plain": [
       "array([[-1.06231521, -0.6557859 ,  0.34567966, ..., -0.57946723,\n",
       "        -0.57638802,  0.91324755],\n",
       "       [ 1.6281146 ,  0.29493847, -0.3483691 , ...,  1.72572313,\n",
       "        -0.57638802,  0.91324755],\n",
       "       [ 0.65583056, -1.41636539, -0.69539349, ..., -0.57946723,\n",
       "         1.73494238,  0.91324755],\n",
       "       ...,\n",
       "       [-0.4096862 , -0.08535128, -1.38944225, ..., -0.57946723,\n",
       "        -0.57638802, -1.09499335],\n",
       "       [-1.31537544,  0.3900109 ,  1.03972843, ..., -0.57946723,\n",
       "        -0.57638802,  0.91324755],\n",
       "       [-0.91580666,  1.15059039, -1.38944225, ...,  1.72572313,\n",
       "        -0.57638802,  0.91324755]])"
      ]
     },
     "execution_count": 16,
     "metadata": {},
     "output_type": "execute_result"
    }
   ],
   "source": [
    "X_train"
   ]
  },
  {
   "cell_type": "code",
   "execution_count": 17,
   "id": "bff3a445",
   "metadata": {},
   "outputs": [
    {
     "data": {
      "text/plain": [
       "array([[ 1.14863206, -0.6557859 , -0.69539349, ...,  1.72572313,\n",
       "        -0.57638802,  0.91324755],\n",
       "       [ 1.50824396,  0.3900109 , -1.38944225, ..., -0.57946723,\n",
       "        -0.57638802,  0.91324755],\n",
       "       [ 1.21522686,  0.48508334, -0.3483691 , ..., -0.57946723,\n",
       "         1.73494238, -1.09499335],\n",
       "       ...,\n",
       "       [-0.476281  ,  0.77030065,  0.69270405, ..., -0.57946723,\n",
       "        -0.57638802, -1.09499335],\n",
       "       [-0.98240146, -0.94100321, -0.3483691 , ..., -0.57946723,\n",
       "        -0.57638802,  0.91324755],\n",
       "       [ 1.57483876,  0.00972116, -1.38944225, ...,  1.72572313,\n",
       "        -0.57638802,  0.91324755]])"
      ]
     },
     "execution_count": 17,
     "metadata": {},
     "output_type": "execute_result"
    }
   ],
   "source": [
    "X_test"
   ]
  },
  {
   "cell_type": "code",
   "execution_count": 18,
   "id": "22fc4c49",
   "metadata": {},
   "outputs": [
    {
     "name": "stdout",
     "output_type": "stream",
     "text": [
      "(8000, 11) (8000,)\n",
      "(2000, 11) (2000,)\n"
     ]
    }
   ],
   "source": [
    "print(X_train.shape, y_train.shape)\n",
    "print(X_test.shape, y_test.shape)"
   ]
  },
  {
   "cell_type": "code",
   "execution_count": 29,
   "id": "790b18e7",
   "metadata": {},
   "outputs": [],
   "source": [
    "# Ensure TensorFlow is installed\n",
    "# %pip install tensorflow\n",
    "\n",
    "import tensorflow as tf\n",
    "from tensorflow import keras\n",
    "from tensorflow.keras import Sequential\n",
    "from tensorflow.keras.layers import Dense"
   ]
  },
  {
   "cell_type": "code",
   "execution_count": 30,
   "id": "41bc8994",
   "metadata": {},
   "outputs": [
    {
     "name": "stderr",
     "output_type": "stream",
     "text": [
      "d:\\Programming\\Deep_Learning\\.deeplr\\Lib\\site-packages\\keras\\src\\layers\\core\\dense.py:87: UserWarning: Do not pass an `input_shape`/`input_dim` argument to a layer. When using Sequential models, prefer using an `Input(shape)` object as the first layer in the model instead.\n",
      "  super().__init__(activity_regularizer=activity_regularizer, **kwargs)\n"
     ]
    }
   ],
   "source": [
    "model=Sequential()\n",
    "# model.add(Dense(3, input_dim=11, activation='relu'))\n",
    "# model.add(Dense(11, activation='relu'))\n",
    "# model.add(Dense(1, activation='sigmoid'))\n",
    "\n",
    "model.add(Dense(11, input_dim=11, activation='relu'))\n",
    "model.add(Dense(11, activation='relu'))\n",
    "model.add(Dense(1, activation='sigmoid'))"
   ]
  },
  {
   "cell_type": "code",
   "execution_count": 31,
   "id": "78bad3a9",
   "metadata": {},
   "outputs": [
    {
     "data": {
      "text/html": [
       "<pre style=\"white-space:pre;overflow-x:auto;line-height:normal;font-family:Menlo,'DejaVu Sans Mono',consolas,'Courier New',monospace\"><span style=\"font-weight: bold\">Model: \"sequential_1\"</span>\n",
       "</pre>\n"
      ],
      "text/plain": [
       "\u001b[1mModel: \"sequential_1\"\u001b[0m\n"
      ]
     },
     "metadata": {},
     "output_type": "display_data"
    },
    {
     "data": {
      "text/html": [
       "<pre style=\"white-space:pre;overflow-x:auto;line-height:normal;font-family:Menlo,'DejaVu Sans Mono',consolas,'Courier New',monospace\">┏━━━━━━━━━━━━━━━━━━━━━━━━━━━━━━━━━┳━━━━━━━━━━━━━━━━━━━━━━━━┳━━━━━━━━━━━━━━━┓\n",
       "┃<span style=\"font-weight: bold\"> Layer (type)                    </span>┃<span style=\"font-weight: bold\"> Output Shape           </span>┃<span style=\"font-weight: bold\">       Param # </span>┃\n",
       "┡━━━━━━━━━━━━━━━━━━━━━━━━━━━━━━━━━╇━━━━━━━━━━━━━━━━━━━━━━━━╇━━━━━━━━━━━━━━━┩\n",
       "│ dense_3 (<span style=\"color: #0087ff; text-decoration-color: #0087ff\">Dense</span>)                 │ (<span style=\"color: #00d7ff; text-decoration-color: #00d7ff\">None</span>, <span style=\"color: #00af00; text-decoration-color: #00af00\">11</span>)             │           <span style=\"color: #00af00; text-decoration-color: #00af00\">132</span> │\n",
       "├─────────────────────────────────┼────────────────────────┼───────────────┤\n",
       "│ dense_4 (<span style=\"color: #0087ff; text-decoration-color: #0087ff\">Dense</span>)                 │ (<span style=\"color: #00d7ff; text-decoration-color: #00d7ff\">None</span>, <span style=\"color: #00af00; text-decoration-color: #00af00\">11</span>)             │           <span style=\"color: #00af00; text-decoration-color: #00af00\">132</span> │\n",
       "├─────────────────────────────────┼────────────────────────┼───────────────┤\n",
       "│ dense_5 (<span style=\"color: #0087ff; text-decoration-color: #0087ff\">Dense</span>)                 │ (<span style=\"color: #00d7ff; text-decoration-color: #00d7ff\">None</span>, <span style=\"color: #00af00; text-decoration-color: #00af00\">1</span>)              │            <span style=\"color: #00af00; text-decoration-color: #00af00\">12</span> │\n",
       "└─────────────────────────────────┴────────────────────────┴───────────────┘\n",
       "</pre>\n"
      ],
      "text/plain": [
       "┏━━━━━━━━━━━━━━━━━━━━━━━━━━━━━━━━━┳━━━━━━━━━━━━━━━━━━━━━━━━┳━━━━━━━━━━━━━━━┓\n",
       "┃\u001b[1m \u001b[0m\u001b[1mLayer (type)                   \u001b[0m\u001b[1m \u001b[0m┃\u001b[1m \u001b[0m\u001b[1mOutput Shape          \u001b[0m\u001b[1m \u001b[0m┃\u001b[1m \u001b[0m\u001b[1m      Param #\u001b[0m\u001b[1m \u001b[0m┃\n",
       "┡━━━━━━━━━━━━━━━━━━━━━━━━━━━━━━━━━╇━━━━━━━━━━━━━━━━━━━━━━━━╇━━━━━━━━━━━━━━━┩\n",
       "│ dense_3 (\u001b[38;5;33mDense\u001b[0m)                 │ (\u001b[38;5;45mNone\u001b[0m, \u001b[38;5;34m11\u001b[0m)             │           \u001b[38;5;34m132\u001b[0m │\n",
       "├─────────────────────────────────┼────────────────────────┼───────────────┤\n",
       "│ dense_4 (\u001b[38;5;33mDense\u001b[0m)                 │ (\u001b[38;5;45mNone\u001b[0m, \u001b[38;5;34m11\u001b[0m)             │           \u001b[38;5;34m132\u001b[0m │\n",
       "├─────────────────────────────────┼────────────────────────┼───────────────┤\n",
       "│ dense_5 (\u001b[38;5;33mDense\u001b[0m)                 │ (\u001b[38;5;45mNone\u001b[0m, \u001b[38;5;34m1\u001b[0m)              │            \u001b[38;5;34m12\u001b[0m │\n",
       "└─────────────────────────────────┴────────────────────────┴───────────────┘\n"
      ]
     },
     "metadata": {},
     "output_type": "display_data"
    },
    {
     "data": {
      "text/html": [
       "<pre style=\"white-space:pre;overflow-x:auto;line-height:normal;font-family:Menlo,'DejaVu Sans Mono',consolas,'Courier New',monospace\"><span style=\"font-weight: bold\"> Total params: </span><span style=\"color: #00af00; text-decoration-color: #00af00\">276</span> (1.08 KB)\n",
       "</pre>\n"
      ],
      "text/plain": [
       "\u001b[1m Total params: \u001b[0m\u001b[38;5;34m276\u001b[0m (1.08 KB)\n"
      ]
     },
     "metadata": {},
     "output_type": "display_data"
    },
    {
     "data": {
      "text/html": [
       "<pre style=\"white-space:pre;overflow-x:auto;line-height:normal;font-family:Menlo,'DejaVu Sans Mono',consolas,'Courier New',monospace\"><span style=\"font-weight: bold\"> Trainable params: </span><span style=\"color: #00af00; text-decoration-color: #00af00\">276</span> (1.08 KB)\n",
       "</pre>\n"
      ],
      "text/plain": [
       "\u001b[1m Trainable params: \u001b[0m\u001b[38;5;34m276\u001b[0m (1.08 KB)\n"
      ]
     },
     "metadata": {},
     "output_type": "display_data"
    },
    {
     "data": {
      "text/html": [
       "<pre style=\"white-space:pre;overflow-x:auto;line-height:normal;font-family:Menlo,'DejaVu Sans Mono',consolas,'Courier New',monospace\"><span style=\"font-weight: bold\"> Non-trainable params: </span><span style=\"color: #00af00; text-decoration-color: #00af00\">0</span> (0.00 B)\n",
       "</pre>\n"
      ],
      "text/plain": [
       "\u001b[1m Non-trainable params: \u001b[0m\u001b[38;5;34m0\u001b[0m (0.00 B)\n"
      ]
     },
     "metadata": {},
     "output_type": "display_data"
    }
   ],
   "source": [
    "model.summary()"
   ]
  },
  {
   "cell_type": "code",
   "execution_count": 32,
   "id": "1eea6bf6",
   "metadata": {},
   "outputs": [],
   "source": [
    "model.compile(optimizer='adam', loss='binary_crossentropy', metrics=['accuracy'])\n"
   ]
  },
  {
   "cell_type": "code",
   "execution_count": 33,
   "id": "575937f5",
   "metadata": {},
   "outputs": [
    {
     "name": "stdout",
     "output_type": "stream",
     "text": [
      "Epoch 1/100\n",
      "\u001b[1m200/200\u001b[0m \u001b[32m━━━━━━━━━━━━━━━━━━━━\u001b[0m\u001b[37m\u001b[0m \u001b[1m3s\u001b[0m 6ms/step - accuracy: 0.6831 - loss: 0.6085 - val_accuracy: 0.7994 - val_loss: 0.4646\n",
      "Epoch 2/100\n",
      "\u001b[1m200/200\u001b[0m \u001b[32m━━━━━━━━━━━━━━━━━━━━\u001b[0m\u001b[37m\u001b[0m \u001b[1m1s\u001b[0m 3ms/step - accuracy: 0.7928 - loss: 0.4664 - val_accuracy: 0.8044 - val_loss: 0.4345\n",
      "Epoch 3/100\n",
      "\u001b[1m200/200\u001b[0m \u001b[32m━━━━━━━━━━━━━━━━━━━━\u001b[0m\u001b[37m\u001b[0m \u001b[1m1s\u001b[0m 4ms/step - accuracy: 0.8072 - loss: 0.4347 - val_accuracy: 0.8206 - val_loss: 0.4213\n",
      "Epoch 4/100\n",
      "\u001b[1m200/200\u001b[0m \u001b[32m━━━━━━━━━━━━━━━━━━━━\u001b[0m\u001b[37m\u001b[0m \u001b[1m1s\u001b[0m 4ms/step - accuracy: 0.8210 - loss: 0.4211 - val_accuracy: 0.8288 - val_loss: 0.4096\n",
      "Epoch 5/100\n",
      "\u001b[1m200/200\u001b[0m \u001b[32m━━━━━━━━━━━━━━━━━━━━\u001b[0m\u001b[37m\u001b[0m \u001b[1m1s\u001b[0m 3ms/step - accuracy: 0.8240 - loss: 0.4053 - val_accuracy: 0.8369 - val_loss: 0.3968\n",
      "Epoch 6/100\n",
      "\u001b[1m200/200\u001b[0m \u001b[32m━━━━━━━━━━━━━━━━━━━━\u001b[0m\u001b[37m\u001b[0m \u001b[1m1s\u001b[0m 3ms/step - accuracy: 0.8398 - loss: 0.3911 - val_accuracy: 0.8487 - val_loss: 0.3838\n",
      "Epoch 7/100\n",
      "\u001b[1m200/200\u001b[0m \u001b[32m━━━━━━━━━━━━━━━━━━━━\u001b[0m\u001b[37m\u001b[0m \u001b[1m1s\u001b[0m 3ms/step - accuracy: 0.8566 - loss: 0.3700 - val_accuracy: 0.8519 - val_loss: 0.3744\n",
      "Epoch 8/100\n",
      "\u001b[1m200/200\u001b[0m \u001b[32m━━━━━━━━━━━━━━━━━━━━\u001b[0m\u001b[37m\u001b[0m \u001b[1m1s\u001b[0m 3ms/step - accuracy: 0.8553 - loss: 0.3651 - val_accuracy: 0.8544 - val_loss: 0.3672\n",
      "Epoch 9/100\n",
      "\u001b[1m200/200\u001b[0m \u001b[32m━━━━━━━━━━━━━━━━━━━━\u001b[0m\u001b[37m\u001b[0m \u001b[1m1s\u001b[0m 3ms/step - accuracy: 0.8603 - loss: 0.3492 - val_accuracy: 0.8606 - val_loss: 0.3642\n",
      "Epoch 10/100\n",
      "\u001b[1m200/200\u001b[0m \u001b[32m━━━━━━━━━━━━━━━━━━━━\u001b[0m\u001b[37m\u001b[0m \u001b[1m1s\u001b[0m 2ms/step - accuracy: 0.8520 - loss: 0.3612 - val_accuracy: 0.8544 - val_loss: 0.3605\n",
      "Epoch 11/100\n",
      "\u001b[1m200/200\u001b[0m \u001b[32m━━━━━━━━━━━━━━━━━━━━\u001b[0m\u001b[37m\u001b[0m \u001b[1m1s\u001b[0m 4ms/step - accuracy: 0.8607 - loss: 0.3499 - val_accuracy: 0.8525 - val_loss: 0.3597\n",
      "Epoch 12/100\n",
      "\u001b[1m200/200\u001b[0m \u001b[32m━━━━━━━━━━━━━━━━━━━━\u001b[0m\u001b[37m\u001b[0m \u001b[1m1s\u001b[0m 3ms/step - accuracy: 0.8536 - loss: 0.3661 - val_accuracy: 0.8562 - val_loss: 0.3581\n",
      "Epoch 13/100\n",
      "\u001b[1m200/200\u001b[0m \u001b[32m━━━━━━━━━━━━━━━━━━━━\u001b[0m\u001b[37m\u001b[0m \u001b[1m1s\u001b[0m 2ms/step - accuracy: 0.8607 - loss: 0.3462 - val_accuracy: 0.8587 - val_loss: 0.3574\n",
      "Epoch 14/100\n",
      "\u001b[1m200/200\u001b[0m \u001b[32m━━━━━━━━━━━━━━━━━━━━\u001b[0m\u001b[37m\u001b[0m \u001b[1m1s\u001b[0m 3ms/step - accuracy: 0.8646 - loss: 0.3409 - val_accuracy: 0.8606 - val_loss: 0.3565\n",
      "Epoch 15/100\n",
      "\u001b[1m200/200\u001b[0m \u001b[32m━━━━━━━━━━━━━━━━━━━━\u001b[0m\u001b[37m\u001b[0m \u001b[1m1s\u001b[0m 3ms/step - accuracy: 0.8579 - loss: 0.3456 - val_accuracy: 0.8531 - val_loss: 0.3559\n",
      "Epoch 16/100\n",
      "\u001b[1m200/200\u001b[0m \u001b[32m━━━━━━━━━━━━━━━━━━━━\u001b[0m\u001b[37m\u001b[0m \u001b[1m1s\u001b[0m 3ms/step - accuracy: 0.8528 - loss: 0.3536 - val_accuracy: 0.8569 - val_loss: 0.3551\n",
      "Epoch 17/100\n",
      "\u001b[1m200/200\u001b[0m \u001b[32m━━━━━━━━━━━━━━━━━━━━\u001b[0m\u001b[37m\u001b[0m \u001b[1m2s\u001b[0m 5ms/step - accuracy: 0.8623 - loss: 0.3475 - val_accuracy: 0.8556 - val_loss: 0.3555\n",
      "Epoch 18/100\n",
      "\u001b[1m200/200\u001b[0m \u001b[32m━━━━━━━━━━━━━━━━━━━━\u001b[0m\u001b[37m\u001b[0m \u001b[1m1s\u001b[0m 3ms/step - accuracy: 0.8648 - loss: 0.3321 - val_accuracy: 0.8581 - val_loss: 0.3556\n",
      "Epoch 19/100\n",
      "\u001b[1m200/200\u001b[0m \u001b[32m━━━━━━━━━━━━━━━━━━━━\u001b[0m\u001b[37m\u001b[0m \u001b[1m1s\u001b[0m 2ms/step - accuracy: 0.8620 - loss: 0.3385 - val_accuracy: 0.8562 - val_loss: 0.3558\n",
      "Epoch 20/100\n",
      "\u001b[1m200/200\u001b[0m \u001b[32m━━━━━━━━━━━━━━━━━━━━\u001b[0m\u001b[37m\u001b[0m \u001b[1m1s\u001b[0m 3ms/step - accuracy: 0.8568 - loss: 0.3469 - val_accuracy: 0.8544 - val_loss: 0.3560\n",
      "Epoch 21/100\n",
      "\u001b[1m200/200\u001b[0m \u001b[32m━━━━━━━━━━━━━━━━━━━━\u001b[0m\u001b[37m\u001b[0m \u001b[1m1s\u001b[0m 3ms/step - accuracy: 0.8544 - loss: 0.3544 - val_accuracy: 0.8569 - val_loss: 0.3562\n",
      "Epoch 22/100\n",
      "\u001b[1m200/200\u001b[0m \u001b[32m━━━━━━━━━━━━━━━━━━━━\u001b[0m\u001b[37m\u001b[0m \u001b[1m1s\u001b[0m 3ms/step - accuracy: 0.8637 - loss: 0.3391 - val_accuracy: 0.8587 - val_loss: 0.3548\n",
      "Epoch 23/100\n",
      "\u001b[1m200/200\u001b[0m \u001b[32m━━━━━━━━━━━━━━━━━━━━\u001b[0m\u001b[37m\u001b[0m \u001b[1m1s\u001b[0m 3ms/step - accuracy: 0.8656 - loss: 0.3431 - val_accuracy: 0.8575 - val_loss: 0.3557\n",
      "Epoch 24/100\n",
      "\u001b[1m200/200\u001b[0m \u001b[32m━━━━━━━━━━━━━━━━━━━━\u001b[0m\u001b[37m\u001b[0m \u001b[1m1s\u001b[0m 3ms/step - accuracy: 0.8609 - loss: 0.3341 - val_accuracy: 0.8581 - val_loss: 0.3555\n",
      "Epoch 25/100\n",
      "\u001b[1m200/200\u001b[0m \u001b[32m━━━━━━━━━━━━━━━━━━━━\u001b[0m\u001b[37m\u001b[0m \u001b[1m1s\u001b[0m 3ms/step - accuracy: 0.8668 - loss: 0.3336 - val_accuracy: 0.8587 - val_loss: 0.3542\n",
      "Epoch 26/100\n",
      "\u001b[1m200/200\u001b[0m \u001b[32m━━━━━━━━━━━━━━━━━━━━\u001b[0m\u001b[37m\u001b[0m \u001b[1m1s\u001b[0m 3ms/step - accuracy: 0.8582 - loss: 0.3477 - val_accuracy: 0.8587 - val_loss: 0.3551\n",
      "Epoch 27/100\n",
      "\u001b[1m200/200\u001b[0m \u001b[32m━━━━━━━━━━━━━━━━━━━━\u001b[0m\u001b[37m\u001b[0m \u001b[1m1s\u001b[0m 3ms/step - accuracy: 0.8578 - loss: 0.3497 - val_accuracy: 0.8594 - val_loss: 0.3552\n",
      "Epoch 28/100\n",
      "\u001b[1m200/200\u001b[0m \u001b[32m━━━━━━━━━━━━━━━━━━━━\u001b[0m\u001b[37m\u001b[0m \u001b[1m1s\u001b[0m 3ms/step - accuracy: 0.8651 - loss: 0.3340 - val_accuracy: 0.8569 - val_loss: 0.3573\n",
      "Epoch 29/100\n",
      "\u001b[1m200/200\u001b[0m \u001b[32m━━━━━━━━━━━━━━━━━━━━\u001b[0m\u001b[37m\u001b[0m \u001b[1m1s\u001b[0m 3ms/step - accuracy: 0.8605 - loss: 0.3361 - val_accuracy: 0.8587 - val_loss: 0.3551\n",
      "Epoch 30/100\n",
      "\u001b[1m200/200\u001b[0m \u001b[32m━━━━━━━━━━━━━━━━━━━━\u001b[0m\u001b[37m\u001b[0m \u001b[1m1s\u001b[0m 3ms/step - accuracy: 0.8640 - loss: 0.3370 - val_accuracy: 0.8594 - val_loss: 0.3541\n",
      "Epoch 31/100\n",
      "\u001b[1m200/200\u001b[0m \u001b[32m━━━━━━━━━━━━━━━━━━━━\u001b[0m\u001b[37m\u001b[0m \u001b[1m1s\u001b[0m 3ms/step - accuracy: 0.8493 - loss: 0.3560 - val_accuracy: 0.8562 - val_loss: 0.3549\n",
      "Epoch 32/100\n",
      "\u001b[1m200/200\u001b[0m \u001b[32m━━━━━━━━━━━━━━━━━━━━\u001b[0m\u001b[37m\u001b[0m \u001b[1m1s\u001b[0m 3ms/step - accuracy: 0.8577 - loss: 0.3468 - val_accuracy: 0.8569 - val_loss: 0.3550\n",
      "Epoch 33/100\n",
      "\u001b[1m200/200\u001b[0m \u001b[32m━━━━━━━━━━━━━━━━━━━━\u001b[0m\u001b[37m\u001b[0m \u001b[1m1s\u001b[0m 3ms/step - accuracy: 0.8673 - loss: 0.3294 - val_accuracy: 0.8594 - val_loss: 0.3547\n",
      "Epoch 34/100\n",
      "\u001b[1m200/200\u001b[0m \u001b[32m━━━━━━━━━━━━━━━━━━━━\u001b[0m\u001b[37m\u001b[0m \u001b[1m1s\u001b[0m 3ms/step - accuracy: 0.8664 - loss: 0.3326 - val_accuracy: 0.8581 - val_loss: 0.3549\n",
      "Epoch 35/100\n",
      "\u001b[1m200/200\u001b[0m \u001b[32m━━━━━━━━━━━━━━━━━━━━\u001b[0m\u001b[37m\u001b[0m \u001b[1m1s\u001b[0m 3ms/step - accuracy: 0.8679 - loss: 0.3232 - val_accuracy: 0.8569 - val_loss: 0.3561\n",
      "Epoch 36/100\n",
      "\u001b[1m200/200\u001b[0m \u001b[32m━━━━━━━━━━━━━━━━━━━━\u001b[0m\u001b[37m\u001b[0m \u001b[1m1s\u001b[0m 4ms/step - accuracy: 0.8760 - loss: 0.3198 - val_accuracy: 0.8581 - val_loss: 0.3552\n",
      "Epoch 37/100\n",
      "\u001b[1m200/200\u001b[0m \u001b[32m━━━━━━━━━━━━━━━━━━━━\u001b[0m\u001b[37m\u001b[0m \u001b[1m1s\u001b[0m 3ms/step - accuracy: 0.8615 - loss: 0.3388 - val_accuracy: 0.8581 - val_loss: 0.3549\n",
      "Epoch 38/100\n",
      "\u001b[1m200/200\u001b[0m \u001b[32m━━━━━━━━━━━━━━━━━━━━\u001b[0m\u001b[37m\u001b[0m \u001b[1m1s\u001b[0m 4ms/step - accuracy: 0.8575 - loss: 0.3381 - val_accuracy: 0.8575 - val_loss: 0.3547\n",
      "Epoch 39/100\n",
      "\u001b[1m200/200\u001b[0m \u001b[32m━━━━━━━━━━━━━━━━━━━━\u001b[0m\u001b[37m\u001b[0m \u001b[1m1s\u001b[0m 5ms/step - accuracy: 0.8658 - loss: 0.3280 - val_accuracy: 0.8562 - val_loss: 0.3554\n",
      "Epoch 40/100\n",
      "\u001b[1m200/200\u001b[0m \u001b[32m━━━━━━━━━━━━━━━━━━━━\u001b[0m\u001b[37m\u001b[0m \u001b[1m1s\u001b[0m 3ms/step - accuracy: 0.8606 - loss: 0.3375 - val_accuracy: 0.8612 - val_loss: 0.3546\n",
      "Epoch 41/100\n",
      "\u001b[1m200/200\u001b[0m \u001b[32m━━━━━━━━━━━━━━━━━━━━\u001b[0m\u001b[37m\u001b[0m \u001b[1m1s\u001b[0m 3ms/step - accuracy: 0.8522 - loss: 0.3413 - val_accuracy: 0.8587 - val_loss: 0.3556\n",
      "Epoch 42/100\n",
      "\u001b[1m200/200\u001b[0m \u001b[32m━━━━━━━━━━━━━━━━━━━━\u001b[0m\u001b[37m\u001b[0m \u001b[1m1s\u001b[0m 3ms/step - accuracy: 0.8640 - loss: 0.3308 - val_accuracy: 0.8575 - val_loss: 0.3546\n",
      "Epoch 43/100\n",
      "\u001b[1m200/200\u001b[0m \u001b[32m━━━━━━━━━━━━━━━━━━━━\u001b[0m\u001b[37m\u001b[0m \u001b[1m1s\u001b[0m 3ms/step - accuracy: 0.8622 - loss: 0.3281 - val_accuracy: 0.8581 - val_loss: 0.3549\n",
      "Epoch 44/100\n",
      "\u001b[1m200/200\u001b[0m \u001b[32m━━━━━━━━━━━━━━━━━━━━\u001b[0m\u001b[37m\u001b[0m \u001b[1m1s\u001b[0m 3ms/step - accuracy: 0.8708 - loss: 0.3197 - val_accuracy: 0.8581 - val_loss: 0.3549\n",
      "Epoch 45/100\n",
      "\u001b[1m200/200\u001b[0m \u001b[32m━━━━━━━━━━━━━━━━━━━━\u001b[0m\u001b[37m\u001b[0m \u001b[1m1s\u001b[0m 3ms/step - accuracy: 0.8618 - loss: 0.3304 - val_accuracy: 0.8581 - val_loss: 0.3551\n",
      "Epoch 46/100\n",
      "\u001b[1m200/200\u001b[0m \u001b[32m━━━━━━━━━━━━━━━━━━━━\u001b[0m\u001b[37m\u001b[0m \u001b[1m1s\u001b[0m 3ms/step - accuracy: 0.8624 - loss: 0.3366 - val_accuracy: 0.8531 - val_loss: 0.3561\n",
      "Epoch 47/100\n",
      "\u001b[1m200/200\u001b[0m \u001b[32m━━━━━━━━━━━━━━━━━━━━\u001b[0m\u001b[37m\u001b[0m \u001b[1m1s\u001b[0m 3ms/step - accuracy: 0.8680 - loss: 0.3266 - val_accuracy: 0.8569 - val_loss: 0.3547\n",
      "Epoch 48/100\n",
      "\u001b[1m200/200\u001b[0m \u001b[32m━━━━━━━━━━━━━━━━━━━━\u001b[0m\u001b[37m\u001b[0m \u001b[1m1s\u001b[0m 3ms/step - accuracy: 0.8618 - loss: 0.3371 - val_accuracy: 0.8550 - val_loss: 0.3560\n",
      "Epoch 49/100\n",
      "\u001b[1m200/200\u001b[0m \u001b[32m━━━━━━━━━━━━━━━━━━━━\u001b[0m\u001b[37m\u001b[0m \u001b[1m1s\u001b[0m 3ms/step - accuracy: 0.8588 - loss: 0.3379 - val_accuracy: 0.8600 - val_loss: 0.3559\n",
      "Epoch 50/100\n",
      "\u001b[1m200/200\u001b[0m \u001b[32m━━━━━━━━━━━━━━━━━━━━\u001b[0m\u001b[37m\u001b[0m \u001b[1m1s\u001b[0m 2ms/step - accuracy: 0.8697 - loss: 0.3333 - val_accuracy: 0.8562 - val_loss: 0.3550\n",
      "Epoch 51/100\n",
      "\u001b[1m200/200\u001b[0m \u001b[32m━━━━━━━━━━━━━━━━━━━━\u001b[0m\u001b[37m\u001b[0m \u001b[1m1s\u001b[0m 3ms/step - accuracy: 0.8660 - loss: 0.3340 - val_accuracy: 0.8587 - val_loss: 0.3544\n",
      "Epoch 52/100\n",
      "\u001b[1m200/200\u001b[0m \u001b[32m━━━━━━━━━━━━━━━━━━━━\u001b[0m\u001b[37m\u001b[0m \u001b[1m1s\u001b[0m 2ms/step - accuracy: 0.8690 - loss: 0.3243 - val_accuracy: 0.8581 - val_loss: 0.3552\n",
      "Epoch 53/100\n",
      "\u001b[1m200/200\u001b[0m \u001b[32m━━━━━━━━━━━━━━━━━━━━\u001b[0m\u001b[37m\u001b[0m \u001b[1m1s\u001b[0m 3ms/step - accuracy: 0.8593 - loss: 0.3384 - val_accuracy: 0.8581 - val_loss: 0.3550\n",
      "Epoch 54/100\n",
      "\u001b[1m200/200\u001b[0m \u001b[32m━━━━━━━━━━━━━━━━━━━━\u001b[0m\u001b[37m\u001b[0m \u001b[1m1s\u001b[0m 3ms/step - accuracy: 0.8609 - loss: 0.3370 - val_accuracy: 0.8562 - val_loss: 0.3560\n",
      "Epoch 55/100\n",
      "\u001b[1m200/200\u001b[0m \u001b[32m━━━━━━━━━━━━━━━━━━━━\u001b[0m\u001b[37m\u001b[0m \u001b[1m1s\u001b[0m 3ms/step - accuracy: 0.8644 - loss: 0.3292 - val_accuracy: 0.8556 - val_loss: 0.3559\n",
      "Epoch 56/100\n",
      "\u001b[1m200/200\u001b[0m \u001b[32m━━━━━━━━━━━━━━━━━━━━\u001b[0m\u001b[37m\u001b[0m \u001b[1m1s\u001b[0m 3ms/step - accuracy: 0.8717 - loss: 0.3187 - val_accuracy: 0.8550 - val_loss: 0.3571\n",
      "Epoch 57/100\n",
      "\u001b[1m200/200\u001b[0m \u001b[32m━━━━━━━━━━━━━━━━━━━━\u001b[0m\u001b[37m\u001b[0m \u001b[1m1s\u001b[0m 3ms/step - accuracy: 0.8636 - loss: 0.3288 - val_accuracy: 0.8575 - val_loss: 0.3559\n",
      "Epoch 58/100\n",
      "\u001b[1m200/200\u001b[0m \u001b[32m━━━━━━━━━━━━━━━━━━━━\u001b[0m\u001b[37m\u001b[0m \u001b[1m1s\u001b[0m 3ms/step - accuracy: 0.8637 - loss: 0.3306 - val_accuracy: 0.8562 - val_loss: 0.3551\n",
      "Epoch 59/100\n",
      "\u001b[1m200/200\u001b[0m \u001b[32m━━━━━━━━━━━━━━━━━━━━\u001b[0m\u001b[37m\u001b[0m \u001b[1m1s\u001b[0m 3ms/step - accuracy: 0.8677 - loss: 0.3249 - val_accuracy: 0.8537 - val_loss: 0.3568\n",
      "Epoch 60/100\n",
      "\u001b[1m200/200\u001b[0m \u001b[32m━━━━━━━━━━━━━━━━━━━━\u001b[0m\u001b[37m\u001b[0m \u001b[1m1s\u001b[0m 5ms/step - accuracy: 0.8685 - loss: 0.3229 - val_accuracy: 0.8581 - val_loss: 0.3564\n",
      "Epoch 61/100\n",
      "\u001b[1m200/200\u001b[0m \u001b[32m━━━━━━━━━━━━━━━━━━━━\u001b[0m\u001b[37m\u001b[0m \u001b[1m1s\u001b[0m 3ms/step - accuracy: 0.8691 - loss: 0.3283 - val_accuracy: 0.8569 - val_loss: 0.3548\n",
      "Epoch 62/100\n",
      "\u001b[1m200/200\u001b[0m \u001b[32m━━━━━━━━━━━━━━━━━━━━\u001b[0m\u001b[37m\u001b[0m \u001b[1m1s\u001b[0m 3ms/step - accuracy: 0.8632 - loss: 0.3302 - val_accuracy: 0.8556 - val_loss: 0.3550\n",
      "Epoch 63/100\n",
      "\u001b[1m200/200\u001b[0m \u001b[32m━━━━━━━━━━━━━━━━━━━━\u001b[0m\u001b[37m\u001b[0m \u001b[1m1s\u001b[0m 3ms/step - accuracy: 0.8695 - loss: 0.3180 - val_accuracy: 0.8544 - val_loss: 0.3558\n",
      "Epoch 64/100\n",
      "\u001b[1m200/200\u001b[0m \u001b[32m━━━━━━━━━━━━━━━━━━━━\u001b[0m\u001b[37m\u001b[0m \u001b[1m1s\u001b[0m 3ms/step - accuracy: 0.8647 - loss: 0.3373 - val_accuracy: 0.8600 - val_loss: 0.3549\n",
      "Epoch 65/100\n",
      "\u001b[1m200/200\u001b[0m \u001b[32m━━━━━━━━━━━━━━━━━━━━\u001b[0m\u001b[37m\u001b[0m \u001b[1m1s\u001b[0m 3ms/step - accuracy: 0.8752 - loss: 0.3117 - val_accuracy: 0.8562 - val_loss: 0.3550\n",
      "Epoch 66/100\n",
      "\u001b[1m200/200\u001b[0m \u001b[32m━━━━━━━━━━━━━━━━━━━━\u001b[0m\u001b[37m\u001b[0m \u001b[1m1s\u001b[0m 3ms/step - accuracy: 0.8646 - loss: 0.3350 - val_accuracy: 0.8519 - val_loss: 0.3571\n",
      "Epoch 67/100\n",
      "\u001b[1m200/200\u001b[0m \u001b[32m━━━━━━━━━━━━━━━━━━━━\u001b[0m\u001b[37m\u001b[0m \u001b[1m1s\u001b[0m 3ms/step - accuracy: 0.8682 - loss: 0.3312 - val_accuracy: 0.8594 - val_loss: 0.3573\n",
      "Epoch 68/100\n",
      "\u001b[1m200/200\u001b[0m \u001b[32m━━━━━━━━━━━━━━━━━━━━\u001b[0m\u001b[37m\u001b[0m \u001b[1m1s\u001b[0m 3ms/step - accuracy: 0.8659 - loss: 0.3291 - val_accuracy: 0.8550 - val_loss: 0.3563\n",
      "Epoch 69/100\n",
      "\u001b[1m200/200\u001b[0m \u001b[32m━━━━━━━━━━━━━━━━━━━━\u001b[0m\u001b[37m\u001b[0m \u001b[1m1s\u001b[0m 4ms/step - accuracy: 0.8635 - loss: 0.3381 - val_accuracy: 0.8531 - val_loss: 0.3558\n",
      "Epoch 70/100\n",
      "\u001b[1m200/200\u001b[0m \u001b[32m━━━━━━━━━━━━━━━━━━━━\u001b[0m\u001b[37m\u001b[0m \u001b[1m1s\u001b[0m 3ms/step - accuracy: 0.8700 - loss: 0.3211 - val_accuracy: 0.8550 - val_loss: 0.3562\n",
      "Epoch 71/100\n",
      "\u001b[1m200/200\u001b[0m \u001b[32m━━━━━━━━━━━━━━━━━━━━\u001b[0m\u001b[37m\u001b[0m \u001b[1m1s\u001b[0m 3ms/step - accuracy: 0.8603 - loss: 0.3404 - val_accuracy: 0.8562 - val_loss: 0.3566\n",
      "Epoch 72/100\n",
      "\u001b[1m200/200\u001b[0m \u001b[32m━━━━━━━━━━━━━━━━━━━━\u001b[0m\u001b[37m\u001b[0m \u001b[1m1s\u001b[0m 3ms/step - accuracy: 0.8699 - loss: 0.3234 - val_accuracy: 0.8581 - val_loss: 0.3556\n",
      "Epoch 73/100\n",
      "\u001b[1m200/200\u001b[0m \u001b[32m━━━━━━━━━━━━━━━━━━━━\u001b[0m\u001b[37m\u001b[0m \u001b[1m1s\u001b[0m 3ms/step - accuracy: 0.8623 - loss: 0.3349 - val_accuracy: 0.8600 - val_loss: 0.3563\n",
      "Epoch 74/100\n",
      "\u001b[1m200/200\u001b[0m \u001b[32m━━━━━━━━━━━━━━━━━━━━\u001b[0m\u001b[37m\u001b[0m \u001b[1m1s\u001b[0m 2ms/step - accuracy: 0.8719 - loss: 0.3224 - val_accuracy: 0.8556 - val_loss: 0.3559\n",
      "Epoch 75/100\n",
      "\u001b[1m200/200\u001b[0m \u001b[32m━━━━━━━━━━━━━━━━━━━━\u001b[0m\u001b[37m\u001b[0m \u001b[1m1s\u001b[0m 3ms/step - accuracy: 0.8648 - loss: 0.3295 - val_accuracy: 0.8525 - val_loss: 0.3577\n",
      "Epoch 76/100\n",
      "\u001b[1m200/200\u001b[0m \u001b[32m━━━━━━━━━━━━━━━━━━━━\u001b[0m\u001b[37m\u001b[0m \u001b[1m1s\u001b[0m 3ms/step - accuracy: 0.8654 - loss: 0.3311 - val_accuracy: 0.8556 - val_loss: 0.3562\n",
      "Epoch 77/100\n",
      "\u001b[1m200/200\u001b[0m \u001b[32m━━━━━━━━━━━━━━━━━━━━\u001b[0m\u001b[37m\u001b[0m \u001b[1m1s\u001b[0m 3ms/step - accuracy: 0.8709 - loss: 0.3206 - val_accuracy: 0.8556 - val_loss: 0.3567\n",
      "Epoch 78/100\n",
      "\u001b[1m200/200\u001b[0m \u001b[32m━━━━━━━━━━━━━━━━━━━━\u001b[0m\u001b[37m\u001b[0m \u001b[1m1s\u001b[0m 3ms/step - accuracy: 0.8659 - loss: 0.3351 - val_accuracy: 0.8581 - val_loss: 0.3567\n",
      "Epoch 79/100\n",
      "\u001b[1m200/200\u001b[0m \u001b[32m━━━━━━━━━━━━━━━━━━━━\u001b[0m\u001b[37m\u001b[0m \u001b[1m1s\u001b[0m 3ms/step - accuracy: 0.8700 - loss: 0.3237 - val_accuracy: 0.8550 - val_loss: 0.3582\n",
      "Epoch 80/100\n",
      "\u001b[1m200/200\u001b[0m \u001b[32m━━━━━━━━━━━━━━━━━━━━\u001b[0m\u001b[37m\u001b[0m \u001b[1m1s\u001b[0m 3ms/step - accuracy: 0.8662 - loss: 0.3312 - val_accuracy: 0.8575 - val_loss: 0.3566\n",
      "Epoch 81/100\n",
      "\u001b[1m200/200\u001b[0m \u001b[32m━━━━━━━━━━━━━━━━━━━━\u001b[0m\u001b[37m\u001b[0m \u001b[1m1s\u001b[0m 3ms/step - accuracy: 0.8664 - loss: 0.3279 - val_accuracy: 0.8494 - val_loss: 0.3587\n",
      "Epoch 82/100\n",
      "\u001b[1m200/200\u001b[0m \u001b[32m━━━━━━━━━━━━━━━━━━━━\u001b[0m\u001b[37m\u001b[0m \u001b[1m1s\u001b[0m 3ms/step - accuracy: 0.8758 - loss: 0.3203 - val_accuracy: 0.8569 - val_loss: 0.3574\n",
      "Epoch 83/100\n",
      "\u001b[1m200/200\u001b[0m \u001b[32m━━━━━━━━━━━━━━━━━━━━\u001b[0m\u001b[37m\u001b[0m \u001b[1m1s\u001b[0m 3ms/step - accuracy: 0.8665 - loss: 0.3372 - val_accuracy: 0.8612 - val_loss: 0.3592\n",
      "Epoch 84/100\n",
      "\u001b[1m200/200\u001b[0m \u001b[32m━━━━━━━━━━━━━━━━━━━━\u001b[0m\u001b[37m\u001b[0m \u001b[1m1s\u001b[0m 4ms/step - accuracy: 0.8663 - loss: 0.3268 - val_accuracy: 0.8537 - val_loss: 0.3577\n",
      "Epoch 85/100\n",
      "\u001b[1m200/200\u001b[0m \u001b[32m━━━━━━━━━━━━━━━━━━━━\u001b[0m\u001b[37m\u001b[0m \u001b[1m1s\u001b[0m 3ms/step - accuracy: 0.8671 - loss: 0.3270 - val_accuracy: 0.8556 - val_loss: 0.3571\n",
      "Epoch 86/100\n",
      "\u001b[1m200/200\u001b[0m \u001b[32m━━━━━━━━━━━━━━━━━━━━\u001b[0m\u001b[37m\u001b[0m \u001b[1m1s\u001b[0m 3ms/step - accuracy: 0.8662 - loss: 0.3323 - val_accuracy: 0.8562 - val_loss: 0.3572\n",
      "Epoch 87/100\n",
      "\u001b[1m200/200\u001b[0m \u001b[32m━━━━━━━━━━━━━━━━━━━━\u001b[0m\u001b[37m\u001b[0m \u001b[1m1s\u001b[0m 3ms/step - accuracy: 0.8595 - loss: 0.3408 - val_accuracy: 0.8581 - val_loss: 0.3575\n",
      "Epoch 88/100\n",
      "\u001b[1m200/200\u001b[0m \u001b[32m━━━━━━━━━━━━━━━━━━━━\u001b[0m\u001b[37m\u001b[0m \u001b[1m1s\u001b[0m 3ms/step - accuracy: 0.8652 - loss: 0.3365 - val_accuracy: 0.8606 - val_loss: 0.3587\n",
      "Epoch 89/100\n",
      "\u001b[1m200/200\u001b[0m \u001b[32m━━━━━━━━━━━━━━━━━━━━\u001b[0m\u001b[37m\u001b[0m \u001b[1m1s\u001b[0m 3ms/step - accuracy: 0.8753 - loss: 0.3189 - val_accuracy: 0.8575 - val_loss: 0.3578\n",
      "Epoch 90/100\n",
      "\u001b[1m200/200\u001b[0m \u001b[32m━━━━━━━━━━━━━━━━━━━━\u001b[0m\u001b[37m\u001b[0m \u001b[1m1s\u001b[0m 3ms/step - accuracy: 0.8750 - loss: 0.3170 - val_accuracy: 0.8550 - val_loss: 0.3585\n",
      "Epoch 91/100\n",
      "\u001b[1m200/200\u001b[0m \u001b[32m━━━━━━━━━━━━━━━━━━━━\u001b[0m\u001b[37m\u001b[0m \u001b[1m1s\u001b[0m 2ms/step - accuracy: 0.8710 - loss: 0.3292 - val_accuracy: 0.8544 - val_loss: 0.3582\n",
      "Epoch 92/100\n",
      "\u001b[1m200/200\u001b[0m \u001b[32m━━━━━━━━━━━━━━━━━━━━\u001b[0m\u001b[37m\u001b[0m \u001b[1m1s\u001b[0m 3ms/step - accuracy: 0.8686 - loss: 0.3248 - val_accuracy: 0.8594 - val_loss: 0.3576\n",
      "Epoch 93/100\n",
      "\u001b[1m200/200\u001b[0m \u001b[32m━━━━━━━━━━━━━━━━━━━━\u001b[0m\u001b[37m\u001b[0m \u001b[1m1s\u001b[0m 3ms/step - accuracy: 0.8707 - loss: 0.3238 - val_accuracy: 0.8581 - val_loss: 0.3568\n",
      "Epoch 94/100\n",
      "\u001b[1m200/200\u001b[0m \u001b[32m━━━━━━━━━━━━━━━━━━━━\u001b[0m\u001b[37m\u001b[0m \u001b[1m1s\u001b[0m 3ms/step - accuracy: 0.8732 - loss: 0.3184 - val_accuracy: 0.8550 - val_loss: 0.3582\n",
      "Epoch 95/100\n",
      "\u001b[1m200/200\u001b[0m \u001b[32m━━━━━━━━━━━━━━━━━━━━\u001b[0m\u001b[37m\u001b[0m \u001b[1m1s\u001b[0m 2ms/step - accuracy: 0.8691 - loss: 0.3250 - val_accuracy: 0.8531 - val_loss: 0.3571\n",
      "Epoch 96/100\n",
      "\u001b[1m200/200\u001b[0m \u001b[32m━━━━━━━━━━━━━━━━━━━━\u001b[0m\u001b[37m\u001b[0m \u001b[1m1s\u001b[0m 3ms/step - accuracy: 0.8585 - loss: 0.3397 - val_accuracy: 0.8562 - val_loss: 0.3565\n",
      "Epoch 97/100\n",
      "\u001b[1m200/200\u001b[0m \u001b[32m━━━━━━━━━━━━━━━━━━━━\u001b[0m\u001b[37m\u001b[0m \u001b[1m1s\u001b[0m 3ms/step - accuracy: 0.8660 - loss: 0.3290 - val_accuracy: 0.8575 - val_loss: 0.3578\n",
      "Epoch 98/100\n",
      "\u001b[1m200/200\u001b[0m \u001b[32m━━━━━━━━━━━━━━━━━━━━\u001b[0m\u001b[37m\u001b[0m \u001b[1m1s\u001b[0m 3ms/step - accuracy: 0.8685 - loss: 0.3289 - val_accuracy: 0.8606 - val_loss: 0.3572\n",
      "Epoch 99/100\n",
      "\u001b[1m200/200\u001b[0m \u001b[32m━━━━━━━━━━━━━━━━━━━━\u001b[0m\u001b[37m\u001b[0m \u001b[1m1s\u001b[0m 3ms/step - accuracy: 0.8695 - loss: 0.3257 - val_accuracy: 0.8531 - val_loss: 0.3575\n",
      "Epoch 100/100\n",
      "\u001b[1m200/200\u001b[0m \u001b[32m━━━━━━━━━━━━━━━━━━━━\u001b[0m\u001b[37m\u001b[0m \u001b[1m1s\u001b[0m 3ms/step - accuracy: 0.8631 - loss: 0.3302 - val_accuracy: 0.8537 - val_loss: 0.3574\n"
     ]
    }
   ],
   "source": [
    "history=model.fit(X_train, y_train, epochs=100,validation_split=0.2)"
   ]
  },
  {
   "cell_type": "code",
   "execution_count": 35,
   "id": "1fa1e4f8",
   "metadata": {},
   "outputs": [
    {
     "data": {
      "text/plain": [
       "dict_keys(['accuracy', 'loss', 'val_accuracy', 'val_loss'])"
      ]
     },
     "execution_count": 35,
     "metadata": {},
     "output_type": "execute_result"
    }
   ],
   "source": [
    "import matplotlib.pyplot as plt\n",
    "\n",
    "history.history.keys()"
   ]
  },
  {
   "cell_type": "code",
   "execution_count": 36,
   "id": "ee064d69",
   "metadata": {},
   "outputs": [
    {
     "data": {
      "text/plain": [
       "{'accuracy': [0.7517187595367432,\n",
       "  0.7965624928474426,\n",
       "  0.80859375,\n",
       "  0.8189062476158142,\n",
       "  0.8287500143051147,\n",
       "  0.8395312428474426,\n",
       "  0.8482812643051147,\n",
       "  0.8509374856948853,\n",
       "  0.8545312285423279,\n",
       "  0.8564062714576721,\n",
       "  0.858593761920929,\n",
       "  0.8589062690734863,\n",
       "  0.8584374785423279,\n",
       "  0.8582812547683716,\n",
       "  0.860156238079071,\n",
       "  0.8614062666893005,\n",
       "  0.8603125214576721,\n",
       "  0.8600000143051147,\n",
       "  0.8614062666893005,\n",
       "  0.8604687452316284,\n",
       "  0.8615624904632568,\n",
       "  0.8617187738418579,\n",
       "  0.8628125190734863,\n",
       "  0.8603125214576721,\n",
       "  0.8623437285423279,\n",
       "  0.8618749976158142,\n",
       "  0.8617187738418579,\n",
       "  0.8612499833106995,\n",
       "  0.8614062666893005,\n",
       "  0.8629687428474426,\n",
       "  0.8621875047683716,\n",
       "  0.862500011920929,\n",
       "  0.8621875047683716,\n",
       "  0.8629687428474426,\n",
       "  0.862500011920929,\n",
       "  0.8645312786102295,\n",
       "  0.8637499809265137,\n",
       "  0.862500011920929,\n",
       "  0.86328125,\n",
       "  0.8635937571525574,\n",
       "  0.8628125190734863,\n",
       "  0.8634374737739563,\n",
       "  0.8629687428474426,\n",
       "  0.8645312786102295,\n",
       "  0.862500011920929,\n",
       "  0.8650000095367432,\n",
       "  0.86328125,\n",
       "  0.8648437261581421,\n",
       "  0.864062488079071,\n",
       "  0.8642187714576721,\n",
       "  0.8646875023841858,\n",
       "  0.8646875023841858,\n",
       "  0.8651562333106995,\n",
       "  0.8648437261581421,\n",
       "  0.8635937571525574,\n",
       "  0.8654687404632568,\n",
       "  0.8645312786102295,\n",
       "  0.8646875023841858,\n",
       "  0.8678125143051147,\n",
       "  0.8642187714576721,\n",
       "  0.8675000071525574,\n",
       "  0.8645312786102295,\n",
       "  0.8648437261581421,\n",
       "  0.8665624856948853,\n",
       "  0.8648437261581421,\n",
       "  0.8651562333106995,\n",
       "  0.8673437237739563,\n",
       "  0.8650000095367432,\n",
       "  0.8660937547683716,\n",
       "  0.8657812476158142,\n",
       "  0.8671875,\n",
       "  0.8668749928474426,\n",
       "  0.8648437261581421,\n",
       "  0.8667187690734863,\n",
       "  0.8656250238418579,\n",
       "  0.8665624856948853,\n",
       "  0.8659374713897705,\n",
       "  0.866406261920929,\n",
       "  0.866406261920929,\n",
       "  0.8675000071525574,\n",
       "  0.8667187690734863,\n",
       "  0.8675000071525574,\n",
       "  0.8667187690734863,\n",
       "  0.8665624856948853,\n",
       "  0.867968738079071,\n",
       "  0.8668749928474426,\n",
       "  0.867968738079071,\n",
       "  0.8667187690734863,\n",
       "  0.8660937547683716,\n",
       "  0.8678125143051147,\n",
       "  0.8675000071525574,\n",
       "  0.8657812476158142,\n",
       "  0.8676562309265137,\n",
       "  0.8668749928474426,\n",
       "  0.8667187690734863,\n",
       "  0.8668749928474426,\n",
       "  0.866406261920929,\n",
       "  0.8687499761581421,\n",
       "  0.8684375286102295,\n",
       "  0.8660937547683716],\n",
       " 'loss': [0.5531817078590393,\n",
       "  0.459009051322937,\n",
       "  0.4373246729373932,\n",
       "  0.42343223094940186,\n",
       "  0.40856248140335083,\n",
       "  0.3926355242729187,\n",
       "  0.37844598293304443,\n",
       "  0.3680749535560608,\n",
       "  0.3613477349281311,\n",
       "  0.3563425540924072,\n",
       "  0.35335373878479004,\n",
       "  0.35074537992477417,\n",
       "  0.3489910364151001,\n",
       "  0.3474501669406891,\n",
       "  0.34661948680877686,\n",
       "  0.3453561067581177,\n",
       "  0.3446900248527527,\n",
       "  0.34363242983818054,\n",
       "  0.34313347935676575,\n",
       "  0.34239280223846436,\n",
       "  0.34167593717575073,\n",
       "  0.3407837748527527,\n",
       "  0.3405101001262665,\n",
       "  0.33979663252830505,\n",
       "  0.3390941321849823,\n",
       "  0.33896908164024353,\n",
       "  0.33864882588386536,\n",
       "  0.3379781246185303,\n",
       "  0.33778616786003113,\n",
       "  0.3377656936645508,\n",
       "  0.33709168434143066,\n",
       "  0.3369532823562622,\n",
       "  0.33657360076904297,\n",
       "  0.3359839916229248,\n",
       "  0.3358091711997986,\n",
       "  0.33543288707733154,\n",
       "  0.33585822582244873,\n",
       "  0.33538883924484253,\n",
       "  0.3351784646511078,\n",
       "  0.33480700850486755,\n",
       "  0.33509838581085205,\n",
       "  0.3349052667617798,\n",
       "  0.33432215452194214,\n",
       "  0.33434373140335083,\n",
       "  0.33445870876312256,\n",
       "  0.33405062556266785,\n",
       "  0.33419135212898254,\n",
       "  0.3335818946361542,\n",
       "  0.3336382806301117,\n",
       "  0.33355677127838135,\n",
       "  0.33345848321914673,\n",
       "  0.3333779275417328,\n",
       "  0.3328271508216858,\n",
       "  0.33282801508903503,\n",
       "  0.3331190347671509,\n",
       "  0.3324875235557556,\n",
       "  0.332431435585022,\n",
       "  0.3326454162597656,\n",
       "  0.3319411873817444,\n",
       "  0.33285412192344666,\n",
       "  0.33151692152023315,\n",
       "  0.33232825994491577,\n",
       "  0.3317912220954895,\n",
       "  0.33139729499816895,\n",
       "  0.3319627642631531,\n",
       "  0.3309635519981384,\n",
       "  0.3313111960887909,\n",
       "  0.3308227062225342,\n",
       "  0.33098331093788147,\n",
       "  0.33066698908805847,\n",
       "  0.3307581841945648,\n",
       "  0.3305700421333313,\n",
       "  0.3303687572479248,\n",
       "  0.330608606338501,\n",
       "  0.3304378092288971,\n",
       "  0.3307623267173767,\n",
       "  0.3302704095840454,\n",
       "  0.32998794317245483,\n",
       "  0.3300987184047699,\n",
       "  0.32983243465423584,\n",
       "  0.3298366069793701,\n",
       "  0.33020859956741333,\n",
       "  0.32964974641799927,\n",
       "  0.33011871576309204,\n",
       "  0.32987040281295776,\n",
       "  0.3294350802898407,\n",
       "  0.3294306993484497,\n",
       "  0.3297075629234314,\n",
       "  0.3293560743331909,\n",
       "  0.3291260898113251,\n",
       "  0.3289523422718048,\n",
       "  0.32979899644851685,\n",
       "  0.32897594571113586,\n",
       "  0.32896554470062256,\n",
       "  0.32914674282073975,\n",
       "  0.3285892903804779,\n",
       "  0.3284608721733093,\n",
       "  0.32862842082977295,\n",
       "  0.3284209072589874,\n",
       "  0.32822972536087036],\n",
       " 'val_accuracy': [0.7993749976158142,\n",
       "  0.8043749928474426,\n",
       "  0.8206250071525574,\n",
       "  0.8287500143051147,\n",
       "  0.8368750214576721,\n",
       "  0.8487499952316284,\n",
       "  0.8518750071525574,\n",
       "  0.8543750047683716,\n",
       "  0.8606250286102295,\n",
       "  0.8543750047683716,\n",
       "  0.8525000214576721,\n",
       "  0.856249988079071,\n",
       "  0.8587499856948853,\n",
       "  0.8606250286102295,\n",
       "  0.8531249761581421,\n",
       "  0.8568750023841858,\n",
       "  0.8556249737739563,\n",
       "  0.8581249713897705,\n",
       "  0.856249988079071,\n",
       "  0.8543750047683716,\n",
       "  0.8568750023841858,\n",
       "  0.8587499856948853,\n",
       "  0.8575000166893005,\n",
       "  0.8581249713897705,\n",
       "  0.8587499856948853,\n",
       "  0.8587499856948853,\n",
       "  0.859375,\n",
       "  0.8568750023841858,\n",
       "  0.8587499856948853,\n",
       "  0.859375,\n",
       "  0.856249988079071,\n",
       "  0.8568750023841858,\n",
       "  0.859375,\n",
       "  0.8581249713897705,\n",
       "  0.8568750023841858,\n",
       "  0.8581249713897705,\n",
       "  0.8581249713897705,\n",
       "  0.8575000166893005,\n",
       "  0.856249988079071,\n",
       "  0.8612499833106995,\n",
       "  0.8587499856948853,\n",
       "  0.8575000166893005,\n",
       "  0.8581249713897705,\n",
       "  0.8581249713897705,\n",
       "  0.8581249713897705,\n",
       "  0.8531249761581421,\n",
       "  0.8568750023841858,\n",
       "  0.8550000190734863,\n",
       "  0.8600000143051147,\n",
       "  0.856249988079071,\n",
       "  0.8587499856948853,\n",
       "  0.8581249713897705,\n",
       "  0.8581249713897705,\n",
       "  0.856249988079071,\n",
       "  0.8556249737739563,\n",
       "  0.8550000190734863,\n",
       "  0.8575000166893005,\n",
       "  0.856249988079071,\n",
       "  0.8537499904632568,\n",
       "  0.8581249713897705,\n",
       "  0.8568750023841858,\n",
       "  0.8556249737739563,\n",
       "  0.8543750047683716,\n",
       "  0.8600000143051147,\n",
       "  0.856249988079071,\n",
       "  0.8518750071525574,\n",
       "  0.859375,\n",
       "  0.8550000190734863,\n",
       "  0.8531249761581421,\n",
       "  0.8550000190734863,\n",
       "  0.856249988079071,\n",
       "  0.8581249713897705,\n",
       "  0.8600000143051147,\n",
       "  0.8556249737739563,\n",
       "  0.8525000214576721,\n",
       "  0.8556249737739563,\n",
       "  0.8556249737739563,\n",
       "  0.8581249713897705,\n",
       "  0.8550000190734863,\n",
       "  0.8575000166893005,\n",
       "  0.8493750095367432,\n",
       "  0.8568750023841858,\n",
       "  0.8612499833106995,\n",
       "  0.8537499904632568,\n",
       "  0.8556249737739563,\n",
       "  0.856249988079071,\n",
       "  0.8581249713897705,\n",
       "  0.8606250286102295,\n",
       "  0.8575000166893005,\n",
       "  0.8550000190734863,\n",
       "  0.8543750047683716,\n",
       "  0.859375,\n",
       "  0.8581249713897705,\n",
       "  0.8550000190734863,\n",
       "  0.8531249761581421,\n",
       "  0.856249988079071,\n",
       "  0.8575000166893005,\n",
       "  0.8606250286102295,\n",
       "  0.8531249761581421,\n",
       "  0.8537499904632568],\n",
       " 'val_loss': [0.46457019448280334,\n",
       "  0.43449658155441284,\n",
       "  0.421349436044693,\n",
       "  0.4095873236656189,\n",
       "  0.3967953622341156,\n",
       "  0.3837907314300537,\n",
       "  0.37436190247535706,\n",
       "  0.36721619963645935,\n",
       "  0.3641674816608429,\n",
       "  0.36054307222366333,\n",
       "  0.35965800285339355,\n",
       "  0.35814163088798523,\n",
       "  0.35744792222976685,\n",
       "  0.3564707040786743,\n",
       "  0.35594332218170166,\n",
       "  0.355136513710022,\n",
       "  0.35545414686203003,\n",
       "  0.3555956780910492,\n",
       "  0.3558044135570526,\n",
       "  0.35602089762687683,\n",
       "  0.3561989963054657,\n",
       "  0.3547671139240265,\n",
       "  0.3556811809539795,\n",
       "  0.3554777204990387,\n",
       "  0.35417211055755615,\n",
       "  0.355072557926178,\n",
       "  0.35523736476898193,\n",
       "  0.35727280378341675,\n",
       "  0.3551163375377655,\n",
       "  0.3541019558906555,\n",
       "  0.3549066185951233,\n",
       "  0.3549668788909912,\n",
       "  0.3547085225582123,\n",
       "  0.35487139225006104,\n",
       "  0.35606393218040466,\n",
       "  0.35519924759864807,\n",
       "  0.3549045920372009,\n",
       "  0.3547402322292328,\n",
       "  0.35536059737205505,\n",
       "  0.35457417368888855,\n",
       "  0.35557591915130615,\n",
       "  0.35462746024131775,\n",
       "  0.3549029529094696,\n",
       "  0.35493114590644836,\n",
       "  0.3550555109977722,\n",
       "  0.35606563091278076,\n",
       "  0.3547087013721466,\n",
       "  0.3559834361076355,\n",
       "  0.35592880845069885,\n",
       "  0.3549710214138031,\n",
       "  0.35440516471862793,\n",
       "  0.355180561542511,\n",
       "  0.35495299100875854,\n",
       "  0.35603219270706177,\n",
       "  0.35586416721343994,\n",
       "  0.35712042450904846,\n",
       "  0.35588738322257996,\n",
       "  0.35513806343078613,\n",
       "  0.35680460929870605,\n",
       "  0.356414794921875,\n",
       "  0.3548283278942108,\n",
       "  0.3550091087818146,\n",
       "  0.35583391785621643,\n",
       "  0.35489317774772644,\n",
       "  0.3550025224685669,\n",
       "  0.3570832908153534,\n",
       "  0.35727688670158386,\n",
       "  0.356300950050354,\n",
       "  0.35581454634666443,\n",
       "  0.35618090629577637,\n",
       "  0.3565545678138733,\n",
       "  0.3555743396282196,\n",
       "  0.35629165172576904,\n",
       "  0.35593941807746887,\n",
       "  0.3576704263687134,\n",
       "  0.3561601936817169,\n",
       "  0.35671576857566833,\n",
       "  0.3566592037677765,\n",
       "  0.3582344055175781,\n",
       "  0.3565860688686371,\n",
       "  0.358681321144104,\n",
       "  0.35736045241355896,\n",
       "  0.35917341709136963,\n",
       "  0.3576660454273224,\n",
       "  0.3571012616157532,\n",
       "  0.3572428822517395,\n",
       "  0.3575453460216522,\n",
       "  0.3587464988231659,\n",
       "  0.35784560441970825,\n",
       "  0.3584960699081421,\n",
       "  0.35824376344680786,\n",
       "  0.35758736729621887,\n",
       "  0.3568341135978699,\n",
       "  0.3581794798374176,\n",
       "  0.35714712738990784,\n",
       "  0.3565382659435272,\n",
       "  0.3577945828437805,\n",
       "  0.35716715455055237,\n",
       "  0.357491135597229,\n",
       "  0.35736384987831116]}"
      ]
     },
     "execution_count": 36,
     "metadata": {},
     "output_type": "execute_result"
    }
   ],
   "source": [
    "history.history"
   ]
  },
  {
   "cell_type": "code",
   "execution_count": 39,
   "id": "56127834",
   "metadata": {},
   "outputs": [
    {
     "data": {
      "text/plain": [
       "[<matplotlib.lines.Line2D at 0x25da5360680>]"
      ]
     },
     "execution_count": 39,
     "metadata": {},
     "output_type": "execute_result"
    },
    {
     "data": {
      "image/png": "[encoded data removed]",
      "text/plain": [
       "<Figure size 640x480 with 1 Axes>"
      ]
     },
     "metadata": {},
     "output_type": "display_data"
    }
   ],
   "source": [
    "plt.plot(history.history['loss'])\n",
    "plt.plot(history.history['val_loss'])"
   ]
  },
  {
   "cell_type": "code",
   "execution_count": null,
   "id": "597f8479",
   "metadata": {},
   "outputs": [
    {
     "data": {
      "text/plain": [
       "[<matplotlib.lines.Line2D at 0x25da53cbad0>]"
      ]
     },
     "execution_count": 37,
     "metadata": {},
     "output_type": "execute_result"
    },
    {
     "data": {
      "image/png": "[encoded data removed]",
      "text/plain": [
       "<Figure size 640x480 with 1 Axes>"
      ]
     },
     "metadata": {},
     "output_type": "display_data"
    }
   ],
   "source": [
    "plt.plot(history.history['accuracy'])\n",
    "plt.plot(history.history['val_accuracy'])\n",
    "plt.title('model accuracy')"
   ]
  },
  {
   "cell_type": "code",
   "execution_count": 24,
   "id": "459dbb88",
   "metadata": {},
   "outputs": [
    {
     "data": {
      "text/plain": [
       "[array([[ 0.10529388,  0.06535057, -0.10552714,  0.0982491 , -0.02848672,\n",
       "          0.29249325,  0.3112717 ,  0.1675677 , -0.29136777,  0.11410362,\n",
       "         -0.11998079],\n",
       "        [ 0.6338292 ,  0.11712694, -0.6908845 ,  0.9173709 , -0.4665213 ,\n",
       "         -0.7086846 , -0.83229876, -0.1609709 ,  0.45481923,  0.3170427 ,\n",
       "         -1.1063279 ],\n",
       "        [-0.15347181,  0.06341387,  0.09104702,  0.28673172, -0.50065243,\n",
       "          0.0499779 , -0.12836966,  0.06781886,  0.14554898, -0.01654206,\n",
       "         -0.10349625],\n",
       "        [ 0.09492589,  0.0880475 , -0.13971505,  0.70222664,  0.4879091 ,\n",
       "          0.21325052,  0.29043356,  0.31357178,  0.37932682, -0.32530704,\n",
       "         -0.20901132],\n",
       "        [ 0.04968157,  0.93554986, -0.21549444,  0.51629925,  0.3823622 ,\n",
       "         -0.05883625, -0.5389844 , -1.0821246 ,  0.5350362 , -0.0956324 ,\n",
       "          0.15624434],\n",
       "        [ 0.48443812,  0.0594414 , -0.18015587, -0.36512586, -0.59907466,\n",
       "          0.11066018, -0.01229594, -0.06460826,  0.66672677, -0.07109991,\n",
       "          0.03896445],\n",
       "        [-0.63376975, -0.09505781, -0.75592625, -0.00355655,  0.5062228 ,\n",
       "         -0.43997106, -0.05832154, -0.38560233,  0.44892564,  0.7680088 ,\n",
       "          0.39493242],\n",
       "        [ 0.23033899,  0.08275563, -0.08161841, -0.24785553,  0.28857958,\n",
       "          0.20743364,  0.01003783,  0.08674183,  0.15572186, -0.15989558,\n",
       "          0.06809819],\n",
       "        [-0.9241457 , -0.13554554, -0.43077093, -0.10133488, -0.0520875 ,\n",
       "         -0.01161166,  0.1672665 ,  0.07876869, -0.35749766, -0.43916884,\n",
       "          0.07319852],\n",
       "        [ 0.2467324 ,  0.08690328,  0.08222289,  0.21517825, -0.38189718,\n",
       "         -0.07178686,  0.54174703,  0.12842295,  0.2510842 , -0.03125891,\n",
       "         -0.04038012],\n",
       "        [ 0.4508725 ,  0.07834636,  0.22915553,  0.16942735,  0.0498352 ,\n",
       "          0.10945881, -0.09621368,  0.12364935,  0.30932212,  0.3505455 ,\n",
       "         -0.01405307]], dtype=float32),\n",
       " array([ 0.18043333, -0.36348745,  0.45247084,  0.4004352 ,  0.55910605,\n",
       "         0.6376652 , -0.49230304,  0.26895693,  0.2326917 ,  0.45414853,\n",
       "         0.6796677 ], dtype=float32)]"
      ]
     },
     "execution_count": 24,
     "metadata": {},
     "output_type": "execute_result"
    }
   ],
   "source": [
    "model.layers[0].get_weights()"
   ]
  },
  {
   "cell_type": "code",
   "execution_count": 25,
   "id": "d3a5612d",
   "metadata": {},
   "outputs": [
    {
     "data": {
      "text/plain": [
       "[array([[ 0.31559688,  0.40237346, -1.7388846 , -0.1757785 ,  0.5062734 ,\n",
       "          0.5339219 ,  0.27542093, -0.02784783, -0.14763471,  0.47201955,\n",
       "          0.37426937],\n",
       "        [ 0.6593426 , -0.41175404,  0.37211215, -0.26261497, -0.16538545,\n",
       "         -0.4889911 ,  0.58425885, -0.4928795 ,  0.90616935, -0.38606754,\n",
       "          0.47764978],\n",
       "        [-0.4609895 , -0.05491926, -1.1616502 , -0.00427216, -0.3406956 ,\n",
       "          0.2450583 , -0.2803024 , -0.43014458, -0.32713974,  0.4586561 ,\n",
       "         -0.23000433],\n",
       "        [ 0.02769259,  0.47071406,  0.35976717, -0.2851678 , -0.44044474,\n",
       "          0.7899855 ,  0.32517537,  0.32440662,  0.2995777 ,  0.28633603,\n",
       "          0.31515306],\n",
       "        [-0.15907772, -1.1980002 , -0.4235148 , -0.2908089 ,  0.36880076,\n",
       "          0.05122045,  0.14823055, -0.14921099,  0.45228326,  0.55870754,\n",
       "         -0.2907658 ],\n",
       "        [-1.0336107 ,  0.22241879, -1.0129825 , -0.4725609 , -1.002537  ,\n",
       "          0.615364  , -0.32740107,  0.05238358,  0.05203647,  0.02440823,\n",
       "         -0.24689482],\n",
       "        [ 0.4211105 ,  0.11378513, -0.75596195,  0.06198705, -1.1704674 ,\n",
       "         -0.44905746, -1.6721965 , -0.20317686, -0.78635883, -0.21022066,\n",
       "         -0.5926449 ],\n",
       "        [ 0.65517837, -0.04643646, -0.14542016, -0.24545074,  0.51818305,\n",
       "         -0.42584217,  0.6568618 , -0.15981084, -0.45808592, -0.5179197 ,\n",
       "          0.27710363],\n",
       "        [ 0.16667235, -1.6114504 , -0.44454658, -0.21107402,  0.04272223,\n",
       "          0.10135654,  0.13392296,  0.33272937,  0.35967004,  0.08559392,\n",
       "         -0.6404368 ],\n",
       "        [-0.20693009, -0.44010502,  0.5388062 , -0.40778184,  0.18341693,\n",
       "          0.15254444, -0.148347  ,  0.38518775, -0.9984575 , -0.07329081,\n",
       "         -0.25054163],\n",
       "        [-0.53720576, -0.11186218, -0.18933645, -0.2902115 , -1.0522517 ,\n",
       "         -0.11607987, -0.00922708,  0.7393499 , -0.11923301,  0.38338083,\n",
       "          0.69518495]], dtype=float32),\n",
       " array([ 0.13024357, -0.27962536,  0.20214571, -0.00526591,  0.40453964,\n",
       "         0.35469925,  0.043524  ,  0.10187244, -0.3387934 ,  0.34946966,\n",
       "        -0.10363513], dtype=float32)]"
      ]
     },
     "execution_count": 25,
     "metadata": {},
     "output_type": "execute_result"
    }
   ],
   "source": [
    "model.layers[1].get_weights()"
   ]
  },
  {
   "cell_type": "code",
   "execution_count": 26,
   "id": "9ab8db6d",
   "metadata": {},
   "outputs": [
    {
     "name": "stdout",
     "output_type": "stream",
     "text": [
      "\u001b[1m63/63\u001b[0m \u001b[32m━━━━━━━━━━━━━━━━━━━━\u001b[0m\u001b[37m\u001b[0m \u001b[1m0s\u001b[0m 2ms/step\n"
     ]
    }
   ],
   "source": [
    "y_log=model.predict(X_test)"
   ]
  },
  {
   "cell_type": "code",
   "execution_count": 27,
   "id": "0b96b331",
   "metadata": {},
   "outputs": [],
   "source": [
    "y_pred=np.where(y_log>0.5, 1, 0)"
   ]
  },
  {
   "cell_type": "code",
   "execution_count": 28,
   "id": "742c99fd",
   "metadata": {},
   "outputs": [
    {
     "data": {
      "text/plain": [
       "0.862"
      ]
     },
     "execution_count": 28,
     "metadata": {},
     "output_type": "execute_result"
    }
   ],
   "source": [
    "from sklearn.metrics import accuracy_score\n",
    "accuracy_score(y_test, y_pred)"
   ]
  }
 ],
 "metadata": {
  "kernelspec": {
   "display_name": ".deeplr",
   "language": "python",
   "name": "python3"
  },
  "language_info": {
   "codemirror_mode": {
    "name": "ipython",
    "version": 3
   },
   "file_extension": ".py",
   "mimetype": "text/x-python",
   "name": "python",
   "nbconvert_exporter": "python",
   "pygments_lexer": "ipython3",
   "version": "3.12.5"
  }
 },
 "nbformat": 4,
 "nbformat_minor": 5
}

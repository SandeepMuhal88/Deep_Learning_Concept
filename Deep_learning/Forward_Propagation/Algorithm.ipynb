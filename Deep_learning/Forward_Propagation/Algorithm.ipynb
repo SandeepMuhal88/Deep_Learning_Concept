{
 "cells": [
  {
   "cell_type": "code",
   "execution_count": 1,
   "id": "d87b86fc",
   "metadata": {},
   "outputs": [],
   "source": [
    "import numpy as np\n",
    "import matplotlib.pyplot as plt\n",
    "import pandas as pd\n",
    "\n"
   ]
  },
  {
   "cell_type": "code",
   "execution_count": 2,
   "id": "5d3a1ab0",
   "metadata": {},
   "outputs": [
    {
     "data": {
      "text/html": [
       "<div>\n",
       "<style scoped>\n",
       "    .dataframe tbody tr th:only-of-type {\n",
       "        vertical-align: middle;\n",
       "    }\n",
       "\n",
       "    .dataframe tbody tr th {\n",
       "        vertical-align: top;\n",
       "    }\n",
       "\n",
       "    .dataframe thead th {\n",
       "        text-align: right;\n",
       "    }\n",
       "</style>\n",
       "<table border=\"1\" class=\"dataframe\">\n",
       "  <thead>\n",
       "    <tr style=\"text-align: right;\">\n",
       "      <th></th>\n",
       "      <th>cgpa</th>\n",
       "      <th>profile_score</th>\n",
       "      <th>placement</th>\n",
       "    </tr>\n",
       "  </thead>\n",
       "  <tbody>\n",
       "    <tr>\n",
       "      <th>0</th>\n",
       "      <td>8</td>\n",
       "      <td>8</td>\n",
       "      <td>4</td>\n",
       "    </tr>\n",
       "    <tr>\n",
       "      <th>1</th>\n",
       "      <td>7</td>\n",
       "      <td>9</td>\n",
       "      <td>5</td>\n",
       "    </tr>\n",
       "    <tr>\n",
       "      <th>2</th>\n",
       "      <td>6</td>\n",
       "      <td>10</td>\n",
       "      <td>6</td>\n",
       "    </tr>\n",
       "    <tr>\n",
       "      <th>3</th>\n",
       "      <td>5</td>\n",
       "      <td>12</td>\n",
       "      <td>7</td>\n",
       "    </tr>\n",
       "  </tbody>\n",
       "</table>\n",
       "</div>"
      ],
      "text/plain": [
       "   cgpa  profile_score  placement\n",
       "0     8              8          4\n",
       "1     7              9          5\n",
       "2     6             10          6\n",
       "3     5             12          7"
      ]
     },
     "execution_count": 2,
     "metadata": {},
     "output_type": "execute_result"
    }
   ],
   "source": [
    "df=pd.DataFrame([[8,8,4],[7,9,5],[6,10,6],[5,12,7]],columns=['cgpa','profile_score','placement'])\n",
    "\n",
    "df.head()"
   ]
  },
  {
   "cell_type": "code",
   "execution_count": 3,
   "id": "216fae71",
   "metadata": {},
   "outputs": [
    {
     "data": {
      "text/plain": [
       "<matplotlib.collections.PathCollection at 0x2b13af1b8f0>"
      ]
     },
     "execution_count": 3,
     "metadata": {},
     "output_type": "execute_result"
    },
    {
     "data": {
      "image/png": "[encoded data removed]",
      "text/plain": [
       "<Figure size 640x480 with 1 Axes>"
      ]
     },
     "metadata": {},
     "output_type": "display_data"
    }
   ],
   "source": [
    "plt.scatter(df.cgpa,df.placement,color='red')\n",
    "plt.scatter(df.profile_score,df.placement,color='blue',marker='x')"
   ]
  },
  {
   "cell_type": "code",
   "execution_count": 20,
   "id": "fa15813f",
   "metadata": {},
   "outputs": [
    {
     "data": {
      "text/plain": [
       "array([0.73105858, 0.88079708, 0.95257413, 0.98201379, 0.99330715])"
      ]
     },
     "execution_count": 20,
     "metadata": {},
     "output_type": "execute_result"
    }
   ],
   "source": [
    "def Activation(x):\n",
    "    \"\"\"\n",
    "    Sigmoid activation function\n",
    "    \"\"\"\n",
    "    return 1/(1+np.exp(-x))\n",
    "\n",
    "\n",
    "Activation(np.array([1,2,3,4,5]))"
   ]
  },
  {
   "cell_type": "code",
   "execution_count": 21,
   "id": "923d2512",
   "metadata": {},
   "outputs": [],
   "source": [
    "\n",
    "# Example usage\n",
    "# Input data (2 features)\n",
    "X = np.array([[0.5], [0.8]])\n",
    "\n",
    "# Weights and biases for a 2-layer neural network (1 hidden, 1 output)\n",
    "weights = [\n",
    "    np.array([[0.2, 0.4], [0.3, 0.5]]),  # Weights for first hidden layer\n",
    "    np.array([[0.6, 0.9]])               # Weights for output layer\n",
    "]\n",
    "biases = [\n",
    "    np.array([[0.1], [0.2]]),  # Bias for first hidden layer\n",
    "    np.array([[0.3]])          # Bias for output layer\n",
    "]"
   ]
  },
  {
   "cell_type": "code",
   "execution_count": 22,
   "id": "7c0dba02",
   "metadata": {},
   "outputs": [],
   "source": [
    "def Forward_Propagation(X,weights,bias):\n",
    "    \"\"\"\n",
    "    Forward propagation Algorithms\n",
    "    \"\"\"\n",
    "    activations = [X]\n",
    "        # Loop through each layer\n",
    "    for i in range(len(weights)):\n",
    "        # Calculate the linear combination (Z = W * A + B)\n",
    "        Z = np.dot(weights[i], activations[-1]) + biases[i]\n",
    "        # Apply activation function (Sigmoid in this case)\n",
    "        A = Activation(Z)\n",
    "        # Store the activation for this layer\n",
    "        activations.append(A)\n",
    "    \n",
    "    return activations[-1], activations  # Output of the last layer and all activations"
   ]
  },
  {
   "cell_type": "code",
   "execution_count": 23,
   "id": "2e29dc8e",
   "metadata": {},
   "outputs": [],
   "source": [
    "output, all_activations = Forward_Propagation(X, weights, biases)"
   ]
  },
  {
   "cell_type": "code",
   "execution_count": 14,
   "id": "7aae006d",
   "metadata": {},
   "outputs": [
    {
     "name": "stdout",
     "output_type": "stream",
     "text": [
      "Final Output (Prediction):\n",
      "[[0.78373213]]\n",
      "\n",
      "All Layer Activations:\n",
      "Layer 0 Activation:\n",
      "[[0.5]\n",
      " [0.8]]\n",
      "\n",
      "Layer 1 Activation:\n",
      "[[0.62714777]\n",
      " [0.6791787 ]]\n",
      "\n",
      "Layer 2 Activation:\n",
      "[[0.78373213]]\n",
      "\n"
     ]
    }
   ],
   "source": [
    "import numpy as np\n",
    "\n",
    "# Define the sigmoid activation function\n",
    "def sigmoid(x):\n",
    "    return 1 / (1 + np.exp(-x))\n",
    "\n",
    "# Forward propagation function\n",
    "def forward_propagation(X, weights, biases):\n",
    "    \"\"\"\n",
    "    X: Input data (numpy array)\n",
    "    weights: List of weight matrices for each layer\n",
    "    biases: List of bias vectors for each layer\n",
    "    \"\"\"\n",
    "    activations = [X]  # List to store activations for each layer\n",
    "    \n",
    "    # Loop through each layer\n",
    "    for i in range(len(weights)):\n",
    "        # Calculate the linear combination (Z = W * A + B)\n",
    "        Z = np.dot(weights[i], activations[-1]) + biases[i]\n",
    "        # Apply activation function (Sigmoid in this case)\n",
    "        A = sigmoid(Z)\n",
    "        # Store the activation for this layer\n",
    "        activations.append(A)\n",
    "    \n",
    "    return activations[-1], activations  # Output of the last layer and all activations\n",
    "\n",
    "# Example usage\n",
    "# Input data (2 features)\n",
    "X = np.array([[0.5], [0.8]])\n",
    "\n",
    "# Weights and biases for a 2-layer neural network (1 hidden, 1 output)\n",
    "weights = [\n",
    "    np.array([[0.2, 0.4], [0.3, 0.5]]),  # Weights for first hidden layer\n",
    "    np.array([[0.6, 0.9]])               # Weights for output layer\n",
    "]\n",
    "biases = [\n",
    "    np.array([[0.1], [0.2]]),  # Bias for first hidden layer\n",
    "    np.array([[0.3]])          # Bias for output layer\n",
    "]\n",
    "\n",
    "# Run forward propagation\n",
    "output, all_activations = forward_propagation(X, weights, biases)\n",
    "\n",
    "print(\"Final Output (Prediction):\")\n",
    "print(output)\n",
    "print(\"\\nAll Layer Activations:\")\n",
    "for i, activation in enumerate(all_activations):\n",
    "    print(f\"Layer {i} Activation:\\n{activation}\\n\")\n"
   ]
  }
 ],
 "metadata": {
  "kernelspec": {
   "display_name": ".deeplr",
   "language": "python",
   "name": "python3"
  },
  "language_info": {
   "codemirror_mode": {
    "name": "ipython",
    "version": 3
   },
   "file_extension": ".py",
   "mimetype": "text/x-python",
   "name": "python",
   "nbconvert_exporter": "python",
   "pygments_lexer": "ipython3",
   "version": "3.12.5"
  }
 },
 "nbformat": 4,
 "nbformat_minor": 5
}

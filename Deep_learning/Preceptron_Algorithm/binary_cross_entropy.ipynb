{
 "cells": [
  {
   "cell_type": "code",
   "execution_count": 1,
   "id": "34c0e887",
   "metadata": {},
   "outputs": [
    {
     "name": "stdout",
     "output_type": "stream",
     "text": [
      "Binary Cross Entropy Loss: 0.16425203348601802\n"
     ]
    }
   ],
   "source": [
    "import numpy as np\n",
    "import matplotlib.pyplot as plt\n",
    "import numpy as np\n",
    "\n",
    "def binary_cross_entropy(y_true, y_pred):\n",
    "    # Make sure predictions are clipped between 0 and 1\n",
    "    y_pred = np.clip(y_pred, 1e-15, 1 - 1e-15)\n",
    "    # BCE formula\n",
    "    loss = -(y_true * np.log(y_pred) + (1 - y_true) * np.log(1 - y_pred))\n",
    "    return np.mean(loss)\n",
    "\n",
    "# Example:\n",
    "y_true = np.array([1, 0, 1, 0])      # Actual labels\n",
    "y_pred = np.array([0.9, 0.2, 0.8, 0.1])  # Predicted probabilities\n",
    "\n",
    "loss = binary_cross_entropy(y_true, y_pred)\n",
    "print(f\"Binary Cross Entropy Loss: {loss}\")\n"
   ]
  }
 ],
 "metadata": {
  "kernelspec": {
   "display_name": ".deeplr",
   "language": "python",
   "name": "python3"
  },
  "language_info": {
   "codemirror_mode": {
    "name": "ipython",
    "version": 3
   },
   "file_extension": ".py",
   "mimetype": "text/x-python",
   "name": "python",
   "nbconvert_exporter": "python",
   "pygments_lexer": "ipython3",
   "version": "3.12.5"
  }
 },
 "nbformat": 4,
 "nbformat_minor": 5
}
